{
 "cells": [
  {
   "cell_type": "code",
   "execution_count": 1,
   "id": "5e3f5537",
   "metadata": {},
   "outputs": [
    {
     "name": "stdout",
     "output_type": "stream",
     "text": [
      "Checking and downloading NLTK resources if necessary...\n",
      "NLTK resource 'punkt' is already downloaded.\n",
      "NLTK resource 'stopwords' is already downloaded.\n",
      "\n",
      "Attempting to load dataset from: ../Data/Raw/data.csv\n",
      "Dataset '../Data/Raw/data.csv' loaded successfully into a pandas DataFrame.\n",
      "\n",
      "1. First 5 rows of the dataset (df.head()):\n"
     ]
    },
    {
     "data": {
      "application/vnd.microsoft.datawrangler.viewer.v0+json": {
       "columns": [
        {
         "name": "index",
         "rawType": "int64",
         "type": "integer"
        },
        {
         "name": "subject",
         "rawType": "object",
         "type": "string"
        },
        {
         "name": "body",
         "rawType": "object",
         "type": "string"
        },
        {
         "name": "label",
         "rawType": "int64",
         "type": "integer"
        }
       ],
       "conversionMethod": "pd.DataFrame",
       "ref": "08448e54-7609-4bbc-a06b-368f38b0b16f",
       "rows": [
        [
         "0",
         "hpl nom for may 25 , 2001",
         "( see attached file : hplno 525 . xls )\r\n- hplno 525 . xls",
         "0"
        ],
        [
         "1",
         "re : nom / actual vols for 24 th",
         "- - - - - - - - - - - - - - - - - - - - - - forwarded by sabrae zajac / hou / ect on 05 / 30 / 2001 12 : 07 pm - - - - - - - - - - - - - - - - - - - - - - - - - - -\r\nenron capital & trade resources corp . from : \" eileen ponton \" 05 / 29 / 2001 08 : 37 am\r\nto : davilal @ txu . com , cstonel @ txu . com , mjones 7 @ txu . com , hpl . scheduling @ enron . com , liz . bellamy @ enron . com , szajac @ enron . com\r\ncc :\r\nsubject : re : nom / actual vols for 24 th\r\ni will agree with your nomination of 33 . 750\r\n- - - - - forwarded by eileen ponton / houston / pefs / pec on 05 / 29 / 01 08 : 36 am\r\n- - - - -\r\n\" charlie\r\nstone \" to : \" eileen ponton \"\r\n, \" melissa jones \"\r\ncom > , hpl . scheduling @ enron . com , liz . bellamy @ enron . com ,\r\nszajac @ enron . com\r\n05 / 25 / 01 subject : re : nom / actual vols for 24 th\r\n04 : 23 pm\r\nwe do not agree with the \" nominated \" volume .\r\nour records reflect the following nom . schedule .\r\n30 rate , eff . 0900 hrs through hour beginning 1400 hrs .\r\n6 . 250\r\n60 rate , eff . 1400 hrs through hour beginning 1700 hrs .\r\n7 . 500\r\n30 rate , eff . 1700 hrs through hour beginning 0900 hrs .\r\n20 . 000\r\ntotal nominated 33 . 750\r\nplease review your source data and let us know if you agree with the above .\r\nthanks ,\r\nccs\r\n\" eileen ponton \" on 05 / 25 / 2001 04 : 06 : 50 pm\r\nto : david avila / lsp / enserch / us @ tu , charlie stone / energy / txu @ tu , melissa\r\njones / energy / txu @ tu , hpl . scheduling @ enron . com , liz . bellamy @ enron . com ,\r\nszajac @ enron . com\r\ncc :\r\nsubject : nom / actual vols for 24 th\r\nnom mcf mmbtu\r\n27 , 500 33 , 109 34 , 003",
         "0"
        ],
        [
         "2",
         "enron actuals for march 30 - april 1 , 201",
         "estimated actuals\r\nmarch 30 , 2001\r\nno flow\r\nmarch 31 , 2001\r\nno flow\r\napril 1 , 2001\r\nteco tap 35 . 000\r\nwhen i receive the actuals from duke i will forward them to you .",
         "0"
        ],
        [
         "3",
         "hpl nom for may 30 , 2001",
         "( see attached file : hplno 530 . xls )\r\n- hplno 530 . xls",
         "0"
        ],
        [
         "4",
         "hpl nom for june 1 , 2001",
         "( see attached file : hplno 601 . xls )\r\n- hplno 601 . xls",
         "0"
        ]
       ],
       "shape": {
        "columns": 3,
        "rows": 5
       }
      },
      "text/html": [
       "<div>\n",
       "<style scoped>\n",
       "    .dataframe tbody tr th:only-of-type {\n",
       "        vertical-align: middle;\n",
       "    }\n",
       "\n",
       "    .dataframe tbody tr th {\n",
       "        vertical-align: top;\n",
       "    }\n",
       "\n",
       "    .dataframe thead th {\n",
       "        text-align: right;\n",
       "    }\n",
       "</style>\n",
       "<table border=\"1\" class=\"dataframe\">\n",
       "  <thead>\n",
       "    <tr style=\"text-align: right;\">\n",
       "      <th></th>\n",
       "      <th>subject</th>\n",
       "      <th>body</th>\n",
       "      <th>label</th>\n",
       "    </tr>\n",
       "  </thead>\n",
       "  <tbody>\n",
       "    <tr>\n",
       "      <th>0</th>\n",
       "      <td>hpl nom for may 25 , 2001</td>\n",
       "      <td>( see attached file : hplno 525 . xls )\\r\\n- h...</td>\n",
       "      <td>0</td>\n",
       "    </tr>\n",
       "    <tr>\n",
       "      <th>1</th>\n",
       "      <td>re : nom / actual vols for 24 th</td>\n",
       "      <td>- - - - - - - - - - - - - - - - - - - - - - fo...</td>\n",
       "      <td>0</td>\n",
       "    </tr>\n",
       "    <tr>\n",
       "      <th>2</th>\n",
       "      <td>enron actuals for march 30 - april 1 , 201</td>\n",
       "      <td>estimated actuals\\r\\nmarch 30 , 2001\\r\\nno flo...</td>\n",
       "      <td>0</td>\n",
       "    </tr>\n",
       "    <tr>\n",
       "      <th>3</th>\n",
       "      <td>hpl nom for may 30 , 2001</td>\n",
       "      <td>( see attached file : hplno 530 . xls )\\r\\n- h...</td>\n",
       "      <td>0</td>\n",
       "    </tr>\n",
       "    <tr>\n",
       "      <th>4</th>\n",
       "      <td>hpl nom for june 1 , 2001</td>\n",
       "      <td>( see attached file : hplno 601 . xls )\\r\\n- h...</td>\n",
       "      <td>0</td>\n",
       "    </tr>\n",
       "  </tbody>\n",
       "</table>\n",
       "</div>"
      ],
      "text/plain": [
       "                                      subject  \\\n",
       "0                   hpl nom for may 25 , 2001   \n",
       "1            re : nom / actual vols for 24 th   \n",
       "2  enron actuals for march 30 - april 1 , 201   \n",
       "3                   hpl nom for may 30 , 2001   \n",
       "4                   hpl nom for june 1 , 2001   \n",
       "\n",
       "                                                body  label  \n",
       "0  ( see attached file : hplno 525 . xls )\\r\\n- h...      0  \n",
       "1  - - - - - - - - - - - - - - - - - - - - - - fo...      0  \n",
       "2  estimated actuals\\r\\nmarch 30 , 2001\\r\\nno flo...      0  \n",
       "3  ( see attached file : hplno 530 . xls )\\r\\n- h...      0  \n",
       "4  ( see attached file : hplno 601 . xls )\\r\\n- h...      0  "
      ]
     },
     "metadata": {},
     "output_type": "display_data"
    },
    {
     "name": "stdout",
     "output_type": "stream",
     "text": [
      "\n",
      "2. Dataset shape (df.shape):\n",
      "   Rows: 29767, Columns: 3\n",
      "\n",
      "3. Missing values per column (df.isnull().sum()):\n",
      "subject    198\n",
      "body         0\n",
      "label        0\n",
      "dtype: int64\n",
      "\n",
      "4. Distribution of the 'label' column (value_counts()):\n",
      "label\n",
      "0    15791\n",
      "1    13976\n",
      "Name: count, dtype: int64\n",
      "\n",
      "5. Proportion of the 'label' column (value_counts(normalize=True)):\n",
      "label\n",
      "0    0.530487\n",
      "1    0.469513\n",
      "Name: proportion, dtype: float64\n",
      "\n",
      "   SUCCESS: The 'label' column appears suitable for binary classification (e.g., two unique values like 0 and 1).\n",
      "\n",
      "6. Data types of columns (df.dtypes):\n",
      "subject    object\n",
      "body       object\n",
      "label       int64\n",
      "dtype: object\n",
      "\n",
      "--- Initial data loading and exploration complete. ---\n"
     ]
    }
   ],
   "source": [
    "import pandas as pd\n",
    "import re\n",
    "import nltk\n",
    "from nltk.corpus import stopwords\n",
    "from nltk.tokenize import word_tokenize\n",
    "from IPython.display import display\n",
    "\n",
    "print(\"Checking and downloading NLTK resources if necessary...\")\n",
    "\n",
    "nltk_resources = ['punkt', 'stopwords']\n",
    "\n",
    "for resource_name in nltk_resources:\n",
    "    try:\n",
    "        if resource_name == 'punkt':\n",
    "            nltk.data.find(f'tokenizers/{resource_name}')\n",
    "        elif resource_name == 'stopwords':\n",
    "            nltk.data.find(f'corpora/{resource_name}')\n",
    "        print(f\"NLTK resource '{resource_name}' is already downloaded.\")\n",
    "    except nltk.downloader.DownloadError:\n",
    "        print(f\"NLTK resource '{resource_name}' not found. Downloading...\")\n",
    "        nltk.download(resource_name, quiet=True)\n",
    "        print(f\"NLTK resource '{resource_name}' downloaded.\")\n",
    "    except Exception as e:\n",
    "        print(f\"An error occurred while checking/downloading NLTK resource '{resource_name}': {e}\")\n",
    "\n",
    "input_file = \"../Data/Raw/data.csv\"\n",
    "\n",
    "print(f\"\\nAttempting to load dataset from: {input_file}\")\n",
    "\n",
    "try:\n",
    "    df = pd.read_csv(input_file)\n",
    "    print(f\"Dataset '{input_file}' loaded successfully into a pandas DataFrame.\")\n",
    "\n",
    "    print(\"\\n1. First 5 rows of the dataset (df.head()):\")\n",
    "    display(df.head())\n",
    "\n",
    "    print(\"\\n2. Dataset shape (df.shape):\")\n",
    "    print(f\"   Rows: {df.shape[0]}, Columns: {df.shape[1]}\")\n",
    "\n",
    "    print(\"\\n3. Missing values per column (df.isnull().sum()):\")\n",
    "    print(df.isnull().sum())\n",
    "\n",
    "    if 'label' in df.columns:\n",
    "        print(\"\\n4. Distribution of the 'label' column (value_counts()):\")\n",
    "        print(df['label'].value_counts())\n",
    "\n",
    "        print(\"\\n5. Proportion of the 'label' column (value_counts(normalize=True)):\")\n",
    "        print(df['label'].value_counts(normalize=True))\n",
    "\n",
    "        unique_labels = df['label'].unique()\n",
    "        if len(unique_labels) < 2:\n",
    "            print(\"\\n   WARNING: The 'label' column has only one unique value.\")\n",
    "            print(\"            This means the dataset cannot be used as is to train a binary classifier (phishing vs. legitimate).\")\n",
    "            print(\"            Please double-check that 'data.csv' (your Enron dataset) contains both classes.\")\n",
    "        elif len(unique_labels) > 2:\n",
    "            print(\"\\n   WARNING: The 'label' column has more than two unique values.\")\n",
    "            print(f\"            Unique labels found: {unique_labels}\")\n",
    "            print(\"            This project is designed for binary classification (e.g., 0 and 1).\")\n",
    "            print(\"            If these extra labels are valid, the problem might need to be redefined or data cleaned further.\")\n",
    "        else:\n",
    "            print(\"\\n   SUCCESS: The 'label' column appears suitable for binary classification (e.g., two unique values like 0 and 1).\")\n",
    "\n",
    "    else:\n",
    "        print(\"\\n   ERROR: The 'label' column was NOT FOUND in the dataset!\")\n",
    "        print(f\"          Available columns are: {df.columns.tolist()}\")\n",
    "\n",
    "    print(\"\\n6. Data types of columns (df.dtypes):\")\n",
    "    print(df.dtypes)\n",
    "\n",
    "except FileNotFoundError:\n",
    "    print(f\"ERROR: The file '{input_file}' was not found. Please check the path and filename carefully.\")\n",
    "    df = None\n",
    "except Exception as e:\n",
    "    print(f\"An unexpected error occurred: {e}\")\n",
    "    df = None\n",
    "\n",
    "if df is not None:\n",
    "    print(\"\\n--- Initial data loading and exploration complete. ---\")\n",
    "else:\n",
    "    print(\"\\n--- Data loading FAILED. Please address the errors above before proceeding. ---\")"
   ]
  },
  {
   "cell_type": "code",
   "execution_count": 2,
   "id": "af6bee88",
   "metadata": {},
   "outputs": [
    {
     "name": "stdout",
     "output_type": "stream",
     "text": [
      "\n",
      "--- Starting Data Cleaning and Preprocessing ---\n",
      "\n",
      "1. Handling missing values in 'subject' column...\n",
      "   Missing values in 'subject' after filling: 0\n",
      "\n",
      "2. Combining 'subject' and 'body' into a new 'text_combined' column...\n",
      "   'text_combined' column created.\n",
      "\n",
      "   Showing the first 5 rows with the new 'text_combined' column (and original subject, body):\n"
     ]
    },
    {
     "name": "stderr",
     "output_type": "stream",
     "text": [
      "C:\\Users\\ITWORK\\AppData\\Local\\Temp\\ipykernel_26880\\1820707812.py:5: FutureWarning: A value is trying to be set on a copy of a DataFrame or Series through chained assignment using an inplace method.\n",
      "The behavior will change in pandas 3.0. This inplace method will never work because the intermediate object on which we are setting values always behaves as a copy.\n",
      "\n",
      "For example, when doing 'df[col].method(value, inplace=True)', try using 'df.method({col: value}, inplace=True)' or df[col] = df[col].method(value) instead, to perform the operation inplace on the original object.\n",
      "\n",
      "\n",
      "  df['subject'].fillna('', inplace=True)\n"
     ]
    },
    {
     "data": {
      "application/vnd.microsoft.datawrangler.viewer.v0+json": {
       "columns": [
        {
         "name": "index",
         "rawType": "int64",
         "type": "integer"
        },
        {
         "name": "subject",
         "rawType": "object",
         "type": "string"
        },
        {
         "name": "body",
         "rawType": "object",
         "type": "string"
        },
        {
         "name": "text_combined",
         "rawType": "object",
         "type": "string"
        },
        {
         "name": "label",
         "rawType": "int64",
         "type": "integer"
        }
       ],
       "conversionMethod": "pd.DataFrame",
       "ref": "80731949-6d21-4444-acbd-da3994b1bc3e",
       "rows": [
        [
         "0",
         "hpl nom for may 25 , 2001",
         "( see attached file : hplno 525 . xls )\r\n- hplno 525 . xls",
         "hpl nom for may 25 , 2001 ( see attached file : hplno 525 . xls )\r\n- hplno 525 . xls",
         "0"
        ],
        [
         "1",
         "re : nom / actual vols for 24 th",
         "- - - - - - - - - - - - - - - - - - - - - - forwarded by sabrae zajac / hou / ect on 05 / 30 / 2001 12 : 07 pm - - - - - - - - - - - - - - - - - - - - - - - - - - -\r\nenron capital & trade resources corp . from : \" eileen ponton \" 05 / 29 / 2001 08 : 37 am\r\nto : davilal @ txu . com , cstonel @ txu . com , mjones 7 @ txu . com , hpl . scheduling @ enron . com , liz . bellamy @ enron . com , szajac @ enron . com\r\ncc :\r\nsubject : re : nom / actual vols for 24 th\r\ni will agree with your nomination of 33 . 750\r\n- - - - - forwarded by eileen ponton / houston / pefs / pec on 05 / 29 / 01 08 : 36 am\r\n- - - - -\r\n\" charlie\r\nstone \" to : \" eileen ponton \"\r\n, \" melissa jones \"\r\ncom > , hpl . scheduling @ enron . com , liz . bellamy @ enron . com ,\r\nszajac @ enron . com\r\n05 / 25 / 01 subject : re : nom / actual vols for 24 th\r\n04 : 23 pm\r\nwe do not agree with the \" nominated \" volume .\r\nour records reflect the following nom . schedule .\r\n30 rate , eff . 0900 hrs through hour beginning 1400 hrs .\r\n6 . 250\r\n60 rate , eff . 1400 hrs through hour beginning 1700 hrs .\r\n7 . 500\r\n30 rate , eff . 1700 hrs through hour beginning 0900 hrs .\r\n20 . 000\r\ntotal nominated 33 . 750\r\nplease review your source data and let us know if you agree with the above .\r\nthanks ,\r\nccs\r\n\" eileen ponton \" on 05 / 25 / 2001 04 : 06 : 50 pm\r\nto : david avila / lsp / enserch / us @ tu , charlie stone / energy / txu @ tu , melissa\r\njones / energy / txu @ tu , hpl . scheduling @ enron . com , liz . bellamy @ enron . com ,\r\nszajac @ enron . com\r\ncc :\r\nsubject : nom / actual vols for 24 th\r\nnom mcf mmbtu\r\n27 , 500 33 , 109 34 , 003",
         "re : nom / actual vols for 24 th - - - - - - - - - - - - - - - - - - - - - - forwarded by sabrae zajac / hou / ect on 05 / 30 / 2001 12 : 07 pm - - - - - - - - - - - - - - - - - - - - - - - - - - -\r\nenron capital & trade resources corp . from : \" eileen ponton \" 05 / 29 / 2001 08 : 37 am\r\nto : davilal @ txu . com , cstonel @ txu . com , mjones 7 @ txu . com , hpl . scheduling @ enron . com , liz . bellamy @ enron . com , szajac @ enron . com\r\ncc :\r\nsubject : re : nom / actual vols for 24 th\r\ni will agree with your nomination of 33 . 750\r\n- - - - - forwarded by eileen ponton / houston / pefs / pec on 05 / 29 / 01 08 : 36 am\r\n- - - - -\r\n\" charlie\r\nstone \" to : \" eileen ponton \"\r\n, \" melissa jones \"\r\ncom > , hpl . scheduling @ enron . com , liz . bellamy @ enron . com ,\r\nszajac @ enron . com\r\n05 / 25 / 01 subject : re : nom / actual vols for 24 th\r\n04 : 23 pm\r\nwe do not agree with the \" nominated \" volume .\r\nour records reflect the following nom . schedule .\r\n30 rate , eff . 0900 hrs through hour beginning 1400 hrs .\r\n6 . 250\r\n60 rate , eff . 1400 hrs through hour beginning 1700 hrs .\r\n7 . 500\r\n30 rate , eff . 1700 hrs through hour beginning 0900 hrs .\r\n20 . 000\r\ntotal nominated 33 . 750\r\nplease review your source data and let us know if you agree with the above .\r\nthanks ,\r\nccs\r\n\" eileen ponton \" on 05 / 25 / 2001 04 : 06 : 50 pm\r\nto : david avila / lsp / enserch / us @ tu , charlie stone / energy / txu @ tu , melissa\r\njones / energy / txu @ tu , hpl . scheduling @ enron . com , liz . bellamy @ enron . com ,\r\nszajac @ enron . com\r\ncc :\r\nsubject : nom / actual vols for 24 th\r\nnom mcf mmbtu\r\n27 , 500 33 , 109 34 , 003",
         "0"
        ],
        [
         "2",
         "enron actuals for march 30 - april 1 , 201",
         "estimated actuals\r\nmarch 30 , 2001\r\nno flow\r\nmarch 31 , 2001\r\nno flow\r\napril 1 , 2001\r\nteco tap 35 . 000\r\nwhen i receive the actuals from duke i will forward them to you .",
         "enron actuals for march 30 - april 1 , 201 estimated actuals\r\nmarch 30 , 2001\r\nno flow\r\nmarch 31 , 2001\r\nno flow\r\napril 1 , 2001\r\nteco tap 35 . 000\r\nwhen i receive the actuals from duke i will forward them to you .",
         "0"
        ],
        [
         "3",
         "hpl nom for may 30 , 2001",
         "( see attached file : hplno 530 . xls )\r\n- hplno 530 . xls",
         "hpl nom for may 30 , 2001 ( see attached file : hplno 530 . xls )\r\n- hplno 530 . xls",
         "0"
        ],
        [
         "4",
         "hpl nom for june 1 , 2001",
         "( see attached file : hplno 601 . xls )\r\n- hplno 601 . xls",
         "hpl nom for june 1 , 2001 ( see attached file : hplno 601 . xls )\r\n- hplno 601 . xls",
         "0"
        ]
       ],
       "shape": {
        "columns": 4,
        "rows": 5
       }
      },
      "text/html": [
       "<div>\n",
       "<style scoped>\n",
       "    .dataframe tbody tr th:only-of-type {\n",
       "        vertical-align: middle;\n",
       "    }\n",
       "\n",
       "    .dataframe tbody tr th {\n",
       "        vertical-align: top;\n",
       "    }\n",
       "\n",
       "    .dataframe thead th {\n",
       "        text-align: right;\n",
       "    }\n",
       "</style>\n",
       "<table border=\"1\" class=\"dataframe\">\n",
       "  <thead>\n",
       "    <tr style=\"text-align: right;\">\n",
       "      <th></th>\n",
       "      <th>subject</th>\n",
       "      <th>body</th>\n",
       "      <th>text_combined</th>\n",
       "      <th>label</th>\n",
       "    </tr>\n",
       "  </thead>\n",
       "  <tbody>\n",
       "    <tr>\n",
       "      <th>0</th>\n",
       "      <td>hpl nom for may 25 , 2001</td>\n",
       "      <td>( see attached file : hplno 525 . xls )\\r\\n- h...</td>\n",
       "      <td>hpl nom for may 25 , 2001 ( see attached file ...</td>\n",
       "      <td>0</td>\n",
       "    </tr>\n",
       "    <tr>\n",
       "      <th>1</th>\n",
       "      <td>re : nom / actual vols for 24 th</td>\n",
       "      <td>- - - - - - - - - - - - - - - - - - - - - - fo...</td>\n",
       "      <td>re : nom / actual vols for 24 th - - - - - - -...</td>\n",
       "      <td>0</td>\n",
       "    </tr>\n",
       "    <tr>\n",
       "      <th>2</th>\n",
       "      <td>enron actuals for march 30 - april 1 , 201</td>\n",
       "      <td>estimated actuals\\r\\nmarch 30 , 2001\\r\\nno flo...</td>\n",
       "      <td>enron actuals for march 30 - april 1 , 201 est...</td>\n",
       "      <td>0</td>\n",
       "    </tr>\n",
       "    <tr>\n",
       "      <th>3</th>\n",
       "      <td>hpl nom for may 30 , 2001</td>\n",
       "      <td>( see attached file : hplno 530 . xls )\\r\\n- h...</td>\n",
       "      <td>hpl nom for may 30 , 2001 ( see attached file ...</td>\n",
       "      <td>0</td>\n",
       "    </tr>\n",
       "    <tr>\n",
       "      <th>4</th>\n",
       "      <td>hpl nom for june 1 , 2001</td>\n",
       "      <td>( see attached file : hplno 601 . xls )\\r\\n- h...</td>\n",
       "      <td>hpl nom for june 1 , 2001 ( see attached file ...</td>\n",
       "      <td>0</td>\n",
       "    </tr>\n",
       "  </tbody>\n",
       "</table>\n",
       "</div>"
      ],
      "text/plain": [
       "                                      subject  \\\n",
       "0                   hpl nom for may 25 , 2001   \n",
       "1            re : nom / actual vols for 24 th   \n",
       "2  enron actuals for march 30 - april 1 , 201   \n",
       "3                   hpl nom for may 30 , 2001   \n",
       "4                   hpl nom for june 1 , 2001   \n",
       "\n",
       "                                                body  \\\n",
       "0  ( see attached file : hplno 525 . xls )\\r\\n- h...   \n",
       "1  - - - - - - - - - - - - - - - - - - - - - - fo...   \n",
       "2  estimated actuals\\r\\nmarch 30 , 2001\\r\\nno flo...   \n",
       "3  ( see attached file : hplno 530 . xls )\\r\\n- h...   \n",
       "4  ( see attached file : hplno 601 . xls )\\r\\n- h...   \n",
       "\n",
       "                                       text_combined  label  \n",
       "0  hpl nom for may 25 , 2001 ( see attached file ...      0  \n",
       "1  re : nom / actual vols for 24 th - - - - - - -...      0  \n",
       "2  enron actuals for march 30 - april 1 , 201 est...      0  \n",
       "3  hpl nom for may 30 , 2001 ( see attached file ...      0  \n",
       "4  hpl nom for june 1 , 2001 ( see attached file ...      0  "
      ]
     },
     "metadata": {},
     "output_type": "display_data"
    },
    {
     "name": "stdout",
     "output_type": "stream",
     "text": [
      "\n",
      "3.A. Converting 'text_combined' to lowercase...\n",
      "   'text_combined' converted to lowercase and stored in 'text_processed'.\n"
     ]
    },
    {
     "data": {
      "application/vnd.microsoft.datawrangler.viewer.v0+json": {
       "columns": [
        {
         "name": "index",
         "rawType": "int64",
         "type": "integer"
        },
        {
         "name": "text_combined",
         "rawType": "object",
         "type": "string"
        },
        {
         "name": "text_processed",
         "rawType": "object",
         "type": "string"
        },
        {
         "name": "label",
         "rawType": "int64",
         "type": "integer"
        }
       ],
       "conversionMethod": "pd.DataFrame",
       "ref": "ec600fb6-2903-441e-aa45-1ba097b2b281",
       "rows": [
        [
         "0",
         "hpl nom for may 25 , 2001 ( see attached file : hplno 525 . xls )\r\n- hplno 525 . xls",
         "hpl nom for may 25 , 2001 ( see attached file : hplno 525 . xls )\r\n- hplno 525 . xls",
         "0"
        ],
        [
         "1",
         "re : nom / actual vols for 24 th - - - - - - - - - - - - - - - - - - - - - - forwarded by sabrae zajac / hou / ect on 05 / 30 / 2001 12 : 07 pm - - - - - - - - - - - - - - - - - - - - - - - - - - -\r\nenron capital & trade resources corp . from : \" eileen ponton \" 05 / 29 / 2001 08 : 37 am\r\nto : davilal @ txu . com , cstonel @ txu . com , mjones 7 @ txu . com , hpl . scheduling @ enron . com , liz . bellamy @ enron . com , szajac @ enron . com\r\ncc :\r\nsubject : re : nom / actual vols for 24 th\r\ni will agree with your nomination of 33 . 750\r\n- - - - - forwarded by eileen ponton / houston / pefs / pec on 05 / 29 / 01 08 : 36 am\r\n- - - - -\r\n\" charlie\r\nstone \" to : \" eileen ponton \"\r\n, \" melissa jones \"\r\ncom > , hpl . scheduling @ enron . com , liz . bellamy @ enron . com ,\r\nszajac @ enron . com\r\n05 / 25 / 01 subject : re : nom / actual vols for 24 th\r\n04 : 23 pm\r\nwe do not agree with the \" nominated \" volume .\r\nour records reflect the following nom . schedule .\r\n30 rate , eff . 0900 hrs through hour beginning 1400 hrs .\r\n6 . 250\r\n60 rate , eff . 1400 hrs through hour beginning 1700 hrs .\r\n7 . 500\r\n30 rate , eff . 1700 hrs through hour beginning 0900 hrs .\r\n20 . 000\r\ntotal nominated 33 . 750\r\nplease review your source data and let us know if you agree with the above .\r\nthanks ,\r\nccs\r\n\" eileen ponton \" on 05 / 25 / 2001 04 : 06 : 50 pm\r\nto : david avila / lsp / enserch / us @ tu , charlie stone / energy / txu @ tu , melissa\r\njones / energy / txu @ tu , hpl . scheduling @ enron . com , liz . bellamy @ enron . com ,\r\nszajac @ enron . com\r\ncc :\r\nsubject : nom / actual vols for 24 th\r\nnom mcf mmbtu\r\n27 , 500 33 , 109 34 , 003",
         "re : nom / actual vols for 24 th - - - - - - - - - - - - - - - - - - - - - - forwarded by sabrae zajac / hou / ect on 05 / 30 / 2001 12 : 07 pm - - - - - - - - - - - - - - - - - - - - - - - - - - -\r\nenron capital & trade resources corp . from : \" eileen ponton \" 05 / 29 / 2001 08 : 37 am\r\nto : davilal @ txu . com , cstonel @ txu . com , mjones 7 @ txu . com , hpl . scheduling @ enron . com , liz . bellamy @ enron . com , szajac @ enron . com\r\ncc :\r\nsubject : re : nom / actual vols for 24 th\r\ni will agree with your nomination of 33 . 750\r\n- - - - - forwarded by eileen ponton / houston / pefs / pec on 05 / 29 / 01 08 : 36 am\r\n- - - - -\r\n\" charlie\r\nstone \" to : \" eileen ponton \"\r\n, \" melissa jones \"\r\ncom > , hpl . scheduling @ enron . com , liz . bellamy @ enron . com ,\r\nszajac @ enron . com\r\n05 / 25 / 01 subject : re : nom / actual vols for 24 th\r\n04 : 23 pm\r\nwe do not agree with the \" nominated \" volume .\r\nour records reflect the following nom . schedule .\r\n30 rate , eff . 0900 hrs through hour beginning 1400 hrs .\r\n6 . 250\r\n60 rate , eff . 1400 hrs through hour beginning 1700 hrs .\r\n7 . 500\r\n30 rate , eff . 1700 hrs through hour beginning 0900 hrs .\r\n20 . 000\r\ntotal nominated 33 . 750\r\nplease review your source data and let us know if you agree with the above .\r\nthanks ,\r\nccs\r\n\" eileen ponton \" on 05 / 25 / 2001 04 : 06 : 50 pm\r\nto : david avila / lsp / enserch / us @ tu , charlie stone / energy / txu @ tu , melissa\r\njones / energy / txu @ tu , hpl . scheduling @ enron . com , liz . bellamy @ enron . com ,\r\nszajac @ enron . com\r\ncc :\r\nsubject : nom / actual vols for 24 th\r\nnom mcf mmbtu\r\n27 , 500 33 , 109 34 , 003",
         "0"
        ],
        [
         "2",
         "enron actuals for march 30 - april 1 , 201 estimated actuals\r\nmarch 30 , 2001\r\nno flow\r\nmarch 31 , 2001\r\nno flow\r\napril 1 , 2001\r\nteco tap 35 . 000\r\nwhen i receive the actuals from duke i will forward them to you .",
         "enron actuals for march 30 - april 1 , 201 estimated actuals\r\nmarch 30 , 2001\r\nno flow\r\nmarch 31 , 2001\r\nno flow\r\napril 1 , 2001\r\nteco tap 35 . 000\r\nwhen i receive the actuals from duke i will forward them to you .",
         "0"
        ],
        [
         "3",
         "hpl nom for may 30 , 2001 ( see attached file : hplno 530 . xls )\r\n- hplno 530 . xls",
         "hpl nom for may 30 , 2001 ( see attached file : hplno 530 . xls )\r\n- hplno 530 . xls",
         "0"
        ],
        [
         "4",
         "hpl nom for june 1 , 2001 ( see attached file : hplno 601 . xls )\r\n- hplno 601 . xls",
         "hpl nom for june 1 , 2001 ( see attached file : hplno 601 . xls )\r\n- hplno 601 . xls",
         "0"
        ]
       ],
       "shape": {
        "columns": 3,
        "rows": 5
       }
      },
      "text/html": [
       "<div>\n",
       "<style scoped>\n",
       "    .dataframe tbody tr th:only-of-type {\n",
       "        vertical-align: middle;\n",
       "    }\n",
       "\n",
       "    .dataframe tbody tr th {\n",
       "        vertical-align: top;\n",
       "    }\n",
       "\n",
       "    .dataframe thead th {\n",
       "        text-align: right;\n",
       "    }\n",
       "</style>\n",
       "<table border=\"1\" class=\"dataframe\">\n",
       "  <thead>\n",
       "    <tr style=\"text-align: right;\">\n",
       "      <th></th>\n",
       "      <th>text_combined</th>\n",
       "      <th>text_processed</th>\n",
       "      <th>label</th>\n",
       "    </tr>\n",
       "  </thead>\n",
       "  <tbody>\n",
       "    <tr>\n",
       "      <th>0</th>\n",
       "      <td>hpl nom for may 25 , 2001 ( see attached file ...</td>\n",
       "      <td>hpl nom for may 25 , 2001 ( see attached file ...</td>\n",
       "      <td>0</td>\n",
       "    </tr>\n",
       "    <tr>\n",
       "      <th>1</th>\n",
       "      <td>re : nom / actual vols for 24 th - - - - - - -...</td>\n",
       "      <td>re : nom / actual vols for 24 th - - - - - - -...</td>\n",
       "      <td>0</td>\n",
       "    </tr>\n",
       "    <tr>\n",
       "      <th>2</th>\n",
       "      <td>enron actuals for march 30 - april 1 , 201 est...</td>\n",
       "      <td>enron actuals for march 30 - april 1 , 201 est...</td>\n",
       "      <td>0</td>\n",
       "    </tr>\n",
       "    <tr>\n",
       "      <th>3</th>\n",
       "      <td>hpl nom for may 30 , 2001 ( see attached file ...</td>\n",
       "      <td>hpl nom for may 30 , 2001 ( see attached file ...</td>\n",
       "      <td>0</td>\n",
       "    </tr>\n",
       "    <tr>\n",
       "      <th>4</th>\n",
       "      <td>hpl nom for june 1 , 2001 ( see attached file ...</td>\n",
       "      <td>hpl nom for june 1 , 2001 ( see attached file ...</td>\n",
       "      <td>0</td>\n",
       "    </tr>\n",
       "  </tbody>\n",
       "</table>\n",
       "</div>"
      ],
      "text/plain": [
       "                                       text_combined  \\\n",
       "0  hpl nom for may 25 , 2001 ( see attached file ...   \n",
       "1  re : nom / actual vols for 24 th - - - - - - -...   \n",
       "2  enron actuals for march 30 - april 1 , 201 est...   \n",
       "3  hpl nom for may 30 , 2001 ( see attached file ...   \n",
       "4  hpl nom for june 1 , 2001 ( see attached file ...   \n",
       "\n",
       "                                      text_processed  label  \n",
       "0  hpl nom for may 25 , 2001 ( see attached file ...      0  \n",
       "1  re : nom / actual vols for 24 th - - - - - - -...      0  \n",
       "2  enron actuals for march 30 - april 1 , 201 est...      0  \n",
       "3  hpl nom for may 30 , 2001 ( see attached file ...      0  \n",
       "4  hpl nom for june 1 , 2001 ( see attached file ...      0  "
      ]
     },
     "metadata": {},
     "output_type": "display_data"
    }
   ],
   "source": [
    "if df is not None:\n",
    "    print(\"\\n--- Starting Data Cleaning and Preprocessing ---\")\n",
    "\n",
    "    print(\"\\n1. Handling missing values in 'subject' column...\")\n",
    "    df['subject'].fillna('', inplace=True)\n",
    "    print(f\"   Missing values in 'subject' after filling: {df['subject'].isnull().sum()}\")\n",
    "\n",
    "    df['body'] = df['body'].astype(str)\n",
    "    df['subject'] = df['subject'].astype(str)\n",
    "\n",
    "    print(\"\\n2. Combining 'subject' and 'body' into a new 'text_combined' column...\")\n",
    "    df['text_combined'] = df['subject'] + \" \" + df['body']\n",
    "\n",
    "    print(\"   'text_combined' column created.\")\n",
    "    print(\"\\n   Showing the first 5 rows with the new 'text_combined' column (and original subject, body):\")\n",
    "    display(df[['subject', 'body', 'text_combined', 'label']].head())\n",
    "\n",
    "    print(\"\\n3.A. Converting 'text_combined' to lowercase...\")\n",
    "    df['text_processed'] = df['text_combined'].str.lower()\n",
    "    print(\"   'text_combined' converted to lowercase and stored in 'text_processed'.\")\n",
    "    display(df[['text_combined', 'text_processed', 'label']].head())\n",
    "\n",
    "else:\n",
    "    print(\"DataFrame 'df' is not loaded. Cannot proceed with cleaning and preprocessing.\")"
   ]
  },
  {
   "cell_type": "code",
   "execution_count": 3,
   "id": "65b2ef57",
   "metadata": {},
   "outputs": [
    {
     "name": "stdout",
     "output_type": "stream",
     "text": [
      "\n",
      "--- Continuing Text Preprocessing ---\n",
      "\n",
      "3.B. Removing punctuation...\n"
     ]
    },
    {
     "name": "stdout",
     "output_type": "stream",
     "text": [
      "   Punctuation removed and result stored in 'text_no_punct'.\n"
     ]
    },
    {
     "data": {
      "application/vnd.microsoft.datawrangler.viewer.v0+json": {
       "columns": [
        {
         "name": "index",
         "rawType": "int64",
         "type": "integer"
        },
        {
         "name": "text_processed",
         "rawType": "object",
         "type": "string"
        },
        {
         "name": "text_no_punct",
         "rawType": "object",
         "type": "string"
        },
        {
         "name": "label",
         "rawType": "int64",
         "type": "integer"
        }
       ],
       "conversionMethod": "pd.DataFrame",
       "ref": "b045362d-6351-4073-bda1-04349a13ee58",
       "rows": [
        [
         "0",
         "hpl nom for may 25 , 2001 ( see attached file : hplno 525 . xls )\r\n- hplno 525 . xls",
         "hpl nom for may 25  2001  see attached file  hplno 525  xls \r\n hplno 525  xls",
         "0"
        ],
        [
         "1",
         "re : nom / actual vols for 24 th - - - - - - - - - - - - - - - - - - - - - - forwarded by sabrae zajac / hou / ect on 05 / 30 / 2001 12 : 07 pm - - - - - - - - - - - - - - - - - - - - - - - - - - -\r\nenron capital & trade resources corp . from : \" eileen ponton \" 05 / 29 / 2001 08 : 37 am\r\nto : davilal @ txu . com , cstonel @ txu . com , mjones 7 @ txu . com , hpl . scheduling @ enron . com , liz . bellamy @ enron . com , szajac @ enron . com\r\ncc :\r\nsubject : re : nom / actual vols for 24 th\r\ni will agree with your nomination of 33 . 750\r\n- - - - - forwarded by eileen ponton / houston / pefs / pec on 05 / 29 / 01 08 : 36 am\r\n- - - - -\r\n\" charlie\r\nstone \" to : \" eileen ponton \"\r\n, \" melissa jones \"\r\ncom > , hpl . scheduling @ enron . com , liz . bellamy @ enron . com ,\r\nszajac @ enron . com\r\n05 / 25 / 01 subject : re : nom / actual vols for 24 th\r\n04 : 23 pm\r\nwe do not agree with the \" nominated \" volume .\r\nour records reflect the following nom . schedule .\r\n30 rate , eff . 0900 hrs through hour beginning 1400 hrs .\r\n6 . 250\r\n60 rate , eff . 1400 hrs through hour beginning 1700 hrs .\r\n7 . 500\r\n30 rate , eff . 1700 hrs through hour beginning 0900 hrs .\r\n20 . 000\r\ntotal nominated 33 . 750\r\nplease review your source data and let us know if you agree with the above .\r\nthanks ,\r\nccs\r\n\" eileen ponton \" on 05 / 25 / 2001 04 : 06 : 50 pm\r\nto : david avila / lsp / enserch / us @ tu , charlie stone / energy / txu @ tu , melissa\r\njones / energy / txu @ tu , hpl . scheduling @ enron . com , liz . bellamy @ enron . com ,\r\nszajac @ enron . com\r\ncc :\r\nsubject : nom / actual vols for 24 th\r\nnom mcf mmbtu\r\n27 , 500 33 , 109 34 , 003",
         "re  nom  actual vols for 24 th                       forwarded by sabrae zajac  hou  ect on 05  30  2001 12  07 pm                           \r\nenron capital  trade resources corp  from   eileen ponton  05  29  2001 08  37 am\r\nto  davilal  txu  com  cstonel  txu  com  mjones 7  txu  com  hpl  scheduling  enron  com  liz  bellamy  enron  com  szajac  enron  com\r\ncc \r\nsubject  re  nom  actual vols for 24 th\r\ni will agree with your nomination of 33  750\r\n     forwarded by eileen ponton  houston  pefs  pec on 05  29  01 08  36 am\r\n    \r\n charlie\r\nstone  to   eileen ponton \r\n  melissa jones \r\ncom   hpl  scheduling  enron  com  liz  bellamy  enron  com \r\nszajac  enron  com\r\n05  25  01 subject  re  nom  actual vols for 24 th\r\n04  23 pm\r\nwe do not agree with the  nominated  volume \r\nour records reflect the following nom  schedule \r\n30 rate  eff  0900 hrs through hour beginning 1400 hrs \r\n6  250\r\n60 rate  eff  1400 hrs through hour beginning 1700 hrs \r\n7  500\r\n30 rate  eff  1700 hrs through hour beginning 0900 hrs \r\n20  000\r\ntotal nominated 33  750\r\nplease review your source data and let us know if you agree with the above \r\nthanks \r\nccs\r\n eileen ponton  on 05  25  2001 04  06  50 pm\r\nto  david avila  lsp  enserch  us  tu  charlie stone  energy  txu  tu  melissa\r\njones  energy  txu  tu  hpl  scheduling  enron  com  liz  bellamy  enron  com \r\nszajac  enron  com\r\ncc \r\nsubject  nom  actual vols for 24 th\r\nnom mcf mmbtu\r\n27  500 33  109 34  003",
         "0"
        ],
        [
         "2",
         "enron actuals for march 30 - april 1 , 201 estimated actuals\r\nmarch 30 , 2001\r\nno flow\r\nmarch 31 , 2001\r\nno flow\r\napril 1 , 2001\r\nteco tap 35 . 000\r\nwhen i receive the actuals from duke i will forward them to you .",
         "enron actuals for march 30  april 1  201 estimated actuals\r\nmarch 30  2001\r\nno flow\r\nmarch 31  2001\r\nno flow\r\napril 1  2001\r\nteco tap 35  000\r\nwhen i receive the actuals from duke i will forward them to you ",
         "0"
        ],
        [
         "3",
         "hpl nom for may 30 , 2001 ( see attached file : hplno 530 . xls )\r\n- hplno 530 . xls",
         "hpl nom for may 30  2001  see attached file  hplno 530  xls \r\n hplno 530  xls",
         "0"
        ],
        [
         "4",
         "hpl nom for june 1 , 2001 ( see attached file : hplno 601 . xls )\r\n- hplno 601 . xls",
         "hpl nom for june 1  2001  see attached file  hplno 601  xls \r\n hplno 601  xls",
         "0"
        ]
       ],
       "shape": {
        "columns": 3,
        "rows": 5
       }
      },
      "text/html": [
       "<div>\n",
       "<style scoped>\n",
       "    .dataframe tbody tr th:only-of-type {\n",
       "        vertical-align: middle;\n",
       "    }\n",
       "\n",
       "    .dataframe tbody tr th {\n",
       "        vertical-align: top;\n",
       "    }\n",
       "\n",
       "    .dataframe thead th {\n",
       "        text-align: right;\n",
       "    }\n",
       "</style>\n",
       "<table border=\"1\" class=\"dataframe\">\n",
       "  <thead>\n",
       "    <tr style=\"text-align: right;\">\n",
       "      <th></th>\n",
       "      <th>text_processed</th>\n",
       "      <th>text_no_punct</th>\n",
       "      <th>label</th>\n",
       "    </tr>\n",
       "  </thead>\n",
       "  <tbody>\n",
       "    <tr>\n",
       "      <th>0</th>\n",
       "      <td>hpl nom for may 25 , 2001 ( see attached file ...</td>\n",
       "      <td>hpl nom for may 25  2001  see attached file  h...</td>\n",
       "      <td>0</td>\n",
       "    </tr>\n",
       "    <tr>\n",
       "      <th>1</th>\n",
       "      <td>re : nom / actual vols for 24 th - - - - - - -...</td>\n",
       "      <td>re  nom  actual vols for 24 th                ...</td>\n",
       "      <td>0</td>\n",
       "    </tr>\n",
       "    <tr>\n",
       "      <th>2</th>\n",
       "      <td>enron actuals for march 30 - april 1 , 201 est...</td>\n",
       "      <td>enron actuals for march 30  april 1  201 estim...</td>\n",
       "      <td>0</td>\n",
       "    </tr>\n",
       "    <tr>\n",
       "      <th>3</th>\n",
       "      <td>hpl nom for may 30 , 2001 ( see attached file ...</td>\n",
       "      <td>hpl nom for may 30  2001  see attached file  h...</td>\n",
       "      <td>0</td>\n",
       "    </tr>\n",
       "    <tr>\n",
       "      <th>4</th>\n",
       "      <td>hpl nom for june 1 , 2001 ( see attached file ...</td>\n",
       "      <td>hpl nom for june 1  2001  see attached file  h...</td>\n",
       "      <td>0</td>\n",
       "    </tr>\n",
       "  </tbody>\n",
       "</table>\n",
       "</div>"
      ],
      "text/plain": [
       "                                      text_processed  \\\n",
       "0  hpl nom for may 25 , 2001 ( see attached file ...   \n",
       "1  re : nom / actual vols for 24 th - - - - - - -...   \n",
       "2  enron actuals for march 30 - april 1 , 201 est...   \n",
       "3  hpl nom for may 30 , 2001 ( see attached file ...   \n",
       "4  hpl nom for june 1 , 2001 ( see attached file ...   \n",
       "\n",
       "                                       text_no_punct  label  \n",
       "0  hpl nom for may 25  2001  see attached file  h...      0  \n",
       "1  re  nom  actual vols for 24 th                ...      0  \n",
       "2  enron actuals for march 30  april 1  201 estim...      0  \n",
       "3  hpl nom for may 30  2001  see attached file  h...      0  \n",
       "4  hpl nom for june 1  2001  see attached file  h...      0  "
      ]
     },
     "metadata": {},
     "output_type": "display_data"
    },
    {
     "name": "stdout",
     "output_type": "stream",
     "text": [
      "\n",
      "3.C. Tokenizing text...\n",
      "   Text tokenized and result (list of words) stored in 'text_tokenized'.\n"
     ]
    },
    {
     "data": {
      "application/vnd.microsoft.datawrangler.viewer.v0+json": {
       "columns": [
        {
         "name": "index",
         "rawType": "int64",
         "type": "integer"
        },
        {
         "name": "text_no_punct",
         "rawType": "object",
         "type": "string"
        },
        {
         "name": "text_tokenized",
         "rawType": "object",
         "type": "unknown"
        },
        {
         "name": "label",
         "rawType": "int64",
         "type": "integer"
        }
       ],
       "conversionMethod": "pd.DataFrame",
       "ref": "dfa9e385-3236-4f45-865a-46558d00cef4",
       "rows": [
        [
         "0",
         "hpl nom for may 25  2001  see attached file  hplno 525  xls \r\n hplno 525  xls",
         "['hpl', 'nom', 'for', 'may', '25', '2001', 'see', 'attached', 'file', 'hplno', '525', 'xls', 'hplno', '525', 'xls']",
         "0"
        ],
        [
         "1",
         "re  nom  actual vols for 24 th                       forwarded by sabrae zajac  hou  ect on 05  30  2001 12  07 pm                           \r\nenron capital  trade resources corp  from   eileen ponton  05  29  2001 08  37 am\r\nto  davilal  txu  com  cstonel  txu  com  mjones 7  txu  com  hpl  scheduling  enron  com  liz  bellamy  enron  com  szajac  enron  com\r\ncc \r\nsubject  re  nom  actual vols for 24 th\r\ni will agree with your nomination of 33  750\r\n     forwarded by eileen ponton  houston  pefs  pec on 05  29  01 08  36 am\r\n    \r\n charlie\r\nstone  to   eileen ponton \r\n  melissa jones \r\ncom   hpl  scheduling  enron  com  liz  bellamy  enron  com \r\nszajac  enron  com\r\n05  25  01 subject  re  nom  actual vols for 24 th\r\n04  23 pm\r\nwe do not agree with the  nominated  volume \r\nour records reflect the following nom  schedule \r\n30 rate  eff  0900 hrs through hour beginning 1400 hrs \r\n6  250\r\n60 rate  eff  1400 hrs through hour beginning 1700 hrs \r\n7  500\r\n30 rate  eff  1700 hrs through hour beginning 0900 hrs \r\n20  000\r\ntotal nominated 33  750\r\nplease review your source data and let us know if you agree with the above \r\nthanks \r\nccs\r\n eileen ponton  on 05  25  2001 04  06  50 pm\r\nto  david avila  lsp  enserch  us  tu  charlie stone  energy  txu  tu  melissa\r\njones  energy  txu  tu  hpl  scheduling  enron  com  liz  bellamy  enron  com \r\nszajac  enron  com\r\ncc \r\nsubject  nom  actual vols for 24 th\r\nnom mcf mmbtu\r\n27  500 33  109 34  003",
         "['re', 'nom', 'actual', 'vols', 'for', '24', 'th', 'forwarded', 'by', 'sabrae', 'zajac', 'hou', 'ect', 'on', '05', '30', '2001', '12', '07', 'pm', 'enron', 'capital', 'trade', 'resources', 'corp', 'from', 'eileen', 'ponton', '05', '29', '2001', '08', '37', 'am', 'to', 'davilal', 'txu', 'com', 'cstonel', 'txu', 'com', 'mjones', '7', 'txu', 'com', 'hpl', 'scheduling', 'enron', 'com', 'liz', 'bellamy', 'enron', 'com', 'szajac', 'enron', 'com', 'cc', 'subject', 're', 'nom', 'actual', 'vols', 'for', '24', 'th', 'i', 'will', 'agree', 'with', 'your', 'nomination', 'of', '33', '750', 'forwarded', 'by', 'eileen', 'ponton', 'houston', 'pefs', 'pec', 'on', '05', '29', '01', '08', '36', 'am', 'charlie', 'stone', 'to', 'eileen', 'ponton', 'melissa', 'jones', 'com', 'hpl', 'scheduling', 'enron', 'com', 'liz', 'bellamy', 'enron', 'com', 'szajac', 'enron', 'com', '05', '25', '01', 'subject', 're', 'nom', 'actual', 'vols', 'for', '24', 'th', '04', '23', 'pm', 'we', 'do', 'not', 'agree', 'with', 'the', 'nominated', 'volume', 'our', 'records', 'reflect', 'the', 'following', 'nom', 'schedule', '30', 'rate', 'eff', '0900', 'hrs', 'through', 'hour', 'beginning', '1400', 'hrs', '6', '250', '60', 'rate', 'eff', '1400', 'hrs', 'through', 'hour', 'beginning', '1700', 'hrs', '7', '500', '30', 'rate', 'eff', '1700', 'hrs', 'through', 'hour', 'beginning', '0900', 'hrs', '20', '000', 'total', 'nominated', '33', '750', 'please', 'review', 'your', 'source', 'data', 'and', 'let', 'us', 'know', 'if', 'you', 'agree', 'with', 'the', 'above', 'thanks', 'ccs', 'eileen', 'ponton', 'on', '05', '25', '2001', '04', '06', '50', 'pm', 'to', 'david', 'avila', 'lsp', 'enserch', 'us', 'tu', 'charlie', 'stone', 'energy', 'txu', 'tu', 'melissa', 'jones', 'energy', 'txu', 'tu', 'hpl', 'scheduling', 'enron', 'com', 'liz', 'bellamy', 'enron', 'com', 'szajac', 'enron', 'com', 'cc', 'subject', 'nom', 'actual', 'vols', 'for', '24', 'th', 'nom', 'mcf', 'mmbtu', '27', '500', '33', '109', '34', '003']",
         "0"
        ],
        [
         "2",
         "enron actuals for march 30  april 1  201 estimated actuals\r\nmarch 30  2001\r\nno flow\r\nmarch 31  2001\r\nno flow\r\napril 1  2001\r\nteco tap 35  000\r\nwhen i receive the actuals from duke i will forward them to you ",
         "['enron', 'actuals', 'for', 'march', '30', 'april', '1', '201', 'estimated', 'actuals', 'march', '30', '2001', 'no', 'flow', 'march', '31', '2001', 'no', 'flow', 'april', '1', '2001', 'teco', 'tap', '35', '000', 'when', 'i', 'receive', 'the', 'actuals', 'from', 'duke', 'i', 'will', 'forward', 'them', 'to', 'you']",
         "0"
        ],
        [
         "3",
         "hpl nom for may 30  2001  see attached file  hplno 530  xls \r\n hplno 530  xls",
         "['hpl', 'nom', 'for', 'may', '30', '2001', 'see', 'attached', 'file', 'hplno', '530', 'xls', 'hplno', '530', 'xls']",
         "0"
        ],
        [
         "4",
         "hpl nom for june 1  2001  see attached file  hplno 601  xls \r\n hplno 601  xls",
         "['hpl', 'nom', 'for', 'june', '1', '2001', 'see', 'attached', 'file', 'hplno', '601', 'xls', 'hplno', '601', 'xls']",
         "0"
        ]
       ],
       "shape": {
        "columns": 3,
        "rows": 5
       }
      },
      "text/html": [
       "<div>\n",
       "<style scoped>\n",
       "    .dataframe tbody tr th:only-of-type {\n",
       "        vertical-align: middle;\n",
       "    }\n",
       "\n",
       "    .dataframe tbody tr th {\n",
       "        vertical-align: top;\n",
       "    }\n",
       "\n",
       "    .dataframe thead th {\n",
       "        text-align: right;\n",
       "    }\n",
       "</style>\n",
       "<table border=\"1\" class=\"dataframe\">\n",
       "  <thead>\n",
       "    <tr style=\"text-align: right;\">\n",
       "      <th></th>\n",
       "      <th>text_no_punct</th>\n",
       "      <th>text_tokenized</th>\n",
       "      <th>label</th>\n",
       "    </tr>\n",
       "  </thead>\n",
       "  <tbody>\n",
       "    <tr>\n",
       "      <th>0</th>\n",
       "      <td>hpl nom for may 25  2001  see attached file  h...</td>\n",
       "      <td>[hpl, nom, for, may, 25, 2001, see, attached, ...</td>\n",
       "      <td>0</td>\n",
       "    </tr>\n",
       "    <tr>\n",
       "      <th>1</th>\n",
       "      <td>re  nom  actual vols for 24 th                ...</td>\n",
       "      <td>[re, nom, actual, vols, for, 24, th, forwarded...</td>\n",
       "      <td>0</td>\n",
       "    </tr>\n",
       "    <tr>\n",
       "      <th>2</th>\n",
       "      <td>enron actuals for march 30  april 1  201 estim...</td>\n",
       "      <td>[enron, actuals, for, march, 30, april, 1, 201...</td>\n",
       "      <td>0</td>\n",
       "    </tr>\n",
       "    <tr>\n",
       "      <th>3</th>\n",
       "      <td>hpl nom for may 30  2001  see attached file  h...</td>\n",
       "      <td>[hpl, nom, for, may, 30, 2001, see, attached, ...</td>\n",
       "      <td>0</td>\n",
       "    </tr>\n",
       "    <tr>\n",
       "      <th>4</th>\n",
       "      <td>hpl nom for june 1  2001  see attached file  h...</td>\n",
       "      <td>[hpl, nom, for, june, 1, 2001, see, attached, ...</td>\n",
       "      <td>0</td>\n",
       "    </tr>\n",
       "  </tbody>\n",
       "</table>\n",
       "</div>"
      ],
      "text/plain": [
       "                                       text_no_punct  \\\n",
       "0  hpl nom for may 25  2001  see attached file  h...   \n",
       "1  re  nom  actual vols for 24 th                ...   \n",
       "2  enron actuals for march 30  april 1  201 estim...   \n",
       "3  hpl nom for may 30  2001  see attached file  h...   \n",
       "4  hpl nom for june 1  2001  see attached file  h...   \n",
       "\n",
       "                                      text_tokenized  label  \n",
       "0  [hpl, nom, for, may, 25, 2001, see, attached, ...      0  \n",
       "1  [re, nom, actual, vols, for, 24, th, forwarded...      0  \n",
       "2  [enron, actuals, for, march, 30, april, 1, 201...      0  \n",
       "3  [hpl, nom, for, may, 30, 2001, see, attached, ...      0  \n",
       "4  [hpl, nom, for, june, 1, 2001, see, attached, ...      0  "
      ]
     },
     "metadata": {},
     "output_type": "display_data"
    },
    {
     "name": "stdout",
     "output_type": "stream",
     "text": [
      "\n",
      "3.D. Removing stop words...\n",
      "   Stop words removed and result stored in 'text_no_stopwords'.\n"
     ]
    },
    {
     "data": {
      "application/vnd.microsoft.datawrangler.viewer.v0+json": {
       "columns": [
        {
         "name": "index",
         "rawType": "int64",
         "type": "integer"
        },
        {
         "name": "text_tokenized",
         "rawType": "object",
         "type": "unknown"
        },
        {
         "name": "text_no_stopwords",
         "rawType": "object",
         "type": "unknown"
        },
        {
         "name": "label",
         "rawType": "int64",
         "type": "integer"
        }
       ],
       "conversionMethod": "pd.DataFrame",
       "ref": "f0d7ad8e-9e33-4668-90f7-c869b9333966",
       "rows": [
        [
         "0",
         "['hpl', 'nom', 'for', 'may', '25', '2001', 'see', 'attached', 'file', 'hplno', '525', 'xls', 'hplno', '525', 'xls']",
         "['hpl', 'nom', 'may', '25', '2001', 'see', 'attached', 'file', 'hplno', '525', 'xls', 'hplno', '525', 'xls']",
         "0"
        ],
        [
         "1",
         "['re', 'nom', 'actual', 'vols', 'for', '24', 'th', 'forwarded', 'by', 'sabrae', 'zajac', 'hou', 'ect', 'on', '05', '30', '2001', '12', '07', 'pm', 'enron', 'capital', 'trade', 'resources', 'corp', 'from', 'eileen', 'ponton', '05', '29', '2001', '08', '37', 'am', 'to', 'davilal', 'txu', 'com', 'cstonel', 'txu', 'com', 'mjones', '7', 'txu', 'com', 'hpl', 'scheduling', 'enron', 'com', 'liz', 'bellamy', 'enron', 'com', 'szajac', 'enron', 'com', 'cc', 'subject', 're', 'nom', 'actual', 'vols', 'for', '24', 'th', 'i', 'will', 'agree', 'with', 'your', 'nomination', 'of', '33', '750', 'forwarded', 'by', 'eileen', 'ponton', 'houston', 'pefs', 'pec', 'on', '05', '29', '01', '08', '36', 'am', 'charlie', 'stone', 'to', 'eileen', 'ponton', 'melissa', 'jones', 'com', 'hpl', 'scheduling', 'enron', 'com', 'liz', 'bellamy', 'enron', 'com', 'szajac', 'enron', 'com', '05', '25', '01', 'subject', 're', 'nom', 'actual', 'vols', 'for', '24', 'th', '04', '23', 'pm', 'we', 'do', 'not', 'agree', 'with', 'the', 'nominated', 'volume', 'our', 'records', 'reflect', 'the', 'following', 'nom', 'schedule', '30', 'rate', 'eff', '0900', 'hrs', 'through', 'hour', 'beginning', '1400', 'hrs', '6', '250', '60', 'rate', 'eff', '1400', 'hrs', 'through', 'hour', 'beginning', '1700', 'hrs', '7', '500', '30', 'rate', 'eff', '1700', 'hrs', 'through', 'hour', 'beginning', '0900', 'hrs', '20', '000', 'total', 'nominated', '33', '750', 'please', 'review', 'your', 'source', 'data', 'and', 'let', 'us', 'know', 'if', 'you', 'agree', 'with', 'the', 'above', 'thanks', 'ccs', 'eileen', 'ponton', 'on', '05', '25', '2001', '04', '06', '50', 'pm', 'to', 'david', 'avila', 'lsp', 'enserch', 'us', 'tu', 'charlie', 'stone', 'energy', 'txu', 'tu', 'melissa', 'jones', 'energy', 'txu', 'tu', 'hpl', 'scheduling', 'enron', 'com', 'liz', 'bellamy', 'enron', 'com', 'szajac', 'enron', 'com', 'cc', 'subject', 'nom', 'actual', 'vols', 'for', '24', 'th', 'nom', 'mcf', 'mmbtu', '27', '500', '33', '109', '34', '003']",
         "['nom', 'actual', 'vols', '24', 'th', 'forwarded', 'sabrae', 'zajac', 'hou', 'ect', '05', '30', '2001', '12', '07', 'pm', 'enron', 'capital', 'trade', 'resources', 'corp', 'eileen', 'ponton', '05', '29', '2001', '08', '37', 'davilal', 'txu', 'com', 'cstonel', 'txu', 'com', 'mjones', '7', 'txu', 'com', 'hpl', 'scheduling', 'enron', 'com', 'liz', 'bellamy', 'enron', 'com', 'szajac', 'enron', 'com', 'cc', 'subject', 'nom', 'actual', 'vols', '24', 'th', 'agree', 'nomination', '33', '750', 'forwarded', 'eileen', 'ponton', 'houston', 'pefs', 'pec', '05', '29', '01', '08', '36', 'charlie', 'stone', 'eileen', 'ponton', 'melissa', 'jones', 'com', 'hpl', 'scheduling', 'enron', 'com', 'liz', 'bellamy', 'enron', 'com', 'szajac', 'enron', 'com', '05', '25', '01', 'subject', 'nom', 'actual', 'vols', '24', 'th', '04', '23', 'pm', 'agree', 'nominated', 'volume', 'records', 'reflect', 'following', 'nom', 'schedule', '30', 'rate', 'eff', '0900', 'hrs', 'hour', 'beginning', '1400', 'hrs', '6', '250', '60', 'rate', 'eff', '1400', 'hrs', 'hour', 'beginning', '1700', 'hrs', '7', '500', '30', 'rate', 'eff', '1700', 'hrs', 'hour', 'beginning', '0900', 'hrs', '20', '000', 'total', 'nominated', '33', '750', 'please', 'review', 'source', 'data', 'let', 'us', 'know', 'agree', 'thanks', 'ccs', 'eileen', 'ponton', '05', '25', '2001', '04', '06', '50', 'pm', 'david', 'avila', 'lsp', 'enserch', 'us', 'tu', 'charlie', 'stone', 'energy', 'txu', 'tu', 'melissa', 'jones', 'energy', 'txu', 'tu', 'hpl', 'scheduling', 'enron', 'com', 'liz', 'bellamy', 'enron', 'com', 'szajac', 'enron', 'com', 'cc', 'subject', 'nom', 'actual', 'vols', '24', 'th', 'nom', 'mcf', 'mmbtu', '27', '500', '33', '109', '34', '003']",
         "0"
        ],
        [
         "2",
         "['enron', 'actuals', 'for', 'march', '30', 'april', '1', '201', 'estimated', 'actuals', 'march', '30', '2001', 'no', 'flow', 'march', '31', '2001', 'no', 'flow', 'april', '1', '2001', 'teco', 'tap', '35', '000', 'when', 'i', 'receive', 'the', 'actuals', 'from', 'duke', 'i', 'will', 'forward', 'them', 'to', 'you']",
         "['enron', 'actuals', 'march', '30', 'april', '1', '201', 'estimated', 'actuals', 'march', '30', '2001', 'flow', 'march', '31', '2001', 'flow', 'april', '1', '2001', 'teco', 'tap', '35', '000', 'receive', 'actuals', 'duke', 'forward']",
         "0"
        ],
        [
         "3",
         "['hpl', 'nom', 'for', 'may', '30', '2001', 'see', 'attached', 'file', 'hplno', '530', 'xls', 'hplno', '530', 'xls']",
         "['hpl', 'nom', 'may', '30', '2001', 'see', 'attached', 'file', 'hplno', '530', 'xls', 'hplno', '530', 'xls']",
         "0"
        ],
        [
         "4",
         "['hpl', 'nom', 'for', 'june', '1', '2001', 'see', 'attached', 'file', 'hplno', '601', 'xls', 'hplno', '601', 'xls']",
         "['hpl', 'nom', 'june', '1', '2001', 'see', 'attached', 'file', 'hplno', '601', 'xls', 'hplno', '601', 'xls']",
         "0"
        ]
       ],
       "shape": {
        "columns": 3,
        "rows": 5
       }
      },
      "text/html": [
       "<div>\n",
       "<style scoped>\n",
       "    .dataframe tbody tr th:only-of-type {\n",
       "        vertical-align: middle;\n",
       "    }\n",
       "\n",
       "    .dataframe tbody tr th {\n",
       "        vertical-align: top;\n",
       "    }\n",
       "\n",
       "    .dataframe thead th {\n",
       "        text-align: right;\n",
       "    }\n",
       "</style>\n",
       "<table border=\"1\" class=\"dataframe\">\n",
       "  <thead>\n",
       "    <tr style=\"text-align: right;\">\n",
       "      <th></th>\n",
       "      <th>text_tokenized</th>\n",
       "      <th>text_no_stopwords</th>\n",
       "      <th>label</th>\n",
       "    </tr>\n",
       "  </thead>\n",
       "  <tbody>\n",
       "    <tr>\n",
       "      <th>0</th>\n",
       "      <td>[hpl, nom, for, may, 25, 2001, see, attached, ...</td>\n",
       "      <td>[hpl, nom, may, 25, 2001, see, attached, file,...</td>\n",
       "      <td>0</td>\n",
       "    </tr>\n",
       "    <tr>\n",
       "      <th>1</th>\n",
       "      <td>[re, nom, actual, vols, for, 24, th, forwarded...</td>\n",
       "      <td>[nom, actual, vols, 24, th, forwarded, sabrae,...</td>\n",
       "      <td>0</td>\n",
       "    </tr>\n",
       "    <tr>\n",
       "      <th>2</th>\n",
       "      <td>[enron, actuals, for, march, 30, april, 1, 201...</td>\n",
       "      <td>[enron, actuals, march, 30, april, 1, 201, est...</td>\n",
       "      <td>0</td>\n",
       "    </tr>\n",
       "    <tr>\n",
       "      <th>3</th>\n",
       "      <td>[hpl, nom, for, may, 30, 2001, see, attached, ...</td>\n",
       "      <td>[hpl, nom, may, 30, 2001, see, attached, file,...</td>\n",
       "      <td>0</td>\n",
       "    </tr>\n",
       "    <tr>\n",
       "      <th>4</th>\n",
       "      <td>[hpl, nom, for, june, 1, 2001, see, attached, ...</td>\n",
       "      <td>[hpl, nom, june, 1, 2001, see, attached, file,...</td>\n",
       "      <td>0</td>\n",
       "    </tr>\n",
       "  </tbody>\n",
       "</table>\n",
       "</div>"
      ],
      "text/plain": [
       "                                      text_tokenized  \\\n",
       "0  [hpl, nom, for, may, 25, 2001, see, attached, ...   \n",
       "1  [re, nom, actual, vols, for, 24, th, forwarded...   \n",
       "2  [enron, actuals, for, march, 30, april, 1, 201...   \n",
       "3  [hpl, nom, for, may, 30, 2001, see, attached, ...   \n",
       "4  [hpl, nom, for, june, 1, 2001, see, attached, ...   \n",
       "\n",
       "                                   text_no_stopwords  label  \n",
       "0  [hpl, nom, may, 25, 2001, see, attached, file,...      0  \n",
       "1  [nom, actual, vols, 24, th, forwarded, sabrae,...      0  \n",
       "2  [enron, actuals, march, 30, april, 1, 201, est...      0  \n",
       "3  [hpl, nom, may, 30, 2001, see, attached, file,...      0  \n",
       "4  [hpl, nom, june, 1, 2001, see, attached, file,...      0  "
      ]
     },
     "metadata": {},
     "output_type": "display_data"
    },
    {
     "name": "stdout",
     "output_type": "stream",
     "text": [
      "\n",
      "Joining tokens back into a single string per email...\n",
      "   Tokens joined into strings and stored in 'text_final_processed'.\n"
     ]
    },
    {
     "data": {
      "application/vnd.microsoft.datawrangler.viewer.v0+json": {
       "columns": [
        {
         "name": "index",
         "rawType": "int64",
         "type": "integer"
        },
        {
         "name": "text_no_stopwords",
         "rawType": "object",
         "type": "unknown"
        },
        {
         "name": "text_final_processed",
         "rawType": "object",
         "type": "string"
        },
        {
         "name": "label",
         "rawType": "int64",
         "type": "integer"
        }
       ],
       "conversionMethod": "pd.DataFrame",
       "ref": "f611133e-5171-413d-8fdc-325aa5fc5c79",
       "rows": [
        [
         "0",
         "['hpl', 'nom', 'may', '25', '2001', 'see', 'attached', 'file', 'hplno', '525', 'xls', 'hplno', '525', 'xls']",
         "hpl nom may 25 2001 see attached file hplno 525 xls hplno 525 xls",
         "0"
        ],
        [
         "1",
         "['nom', 'actual', 'vols', '24', 'th', 'forwarded', 'sabrae', 'zajac', 'hou', 'ect', '05', '30', '2001', '12', '07', 'pm', 'enron', 'capital', 'trade', 'resources', 'corp', 'eileen', 'ponton', '05', '29', '2001', '08', '37', 'davilal', 'txu', 'com', 'cstonel', 'txu', 'com', 'mjones', '7', 'txu', 'com', 'hpl', 'scheduling', 'enron', 'com', 'liz', 'bellamy', 'enron', 'com', 'szajac', 'enron', 'com', 'cc', 'subject', 'nom', 'actual', 'vols', '24', 'th', 'agree', 'nomination', '33', '750', 'forwarded', 'eileen', 'ponton', 'houston', 'pefs', 'pec', '05', '29', '01', '08', '36', 'charlie', 'stone', 'eileen', 'ponton', 'melissa', 'jones', 'com', 'hpl', 'scheduling', 'enron', 'com', 'liz', 'bellamy', 'enron', 'com', 'szajac', 'enron', 'com', '05', '25', '01', 'subject', 'nom', 'actual', 'vols', '24', 'th', '04', '23', 'pm', 'agree', 'nominated', 'volume', 'records', 'reflect', 'following', 'nom', 'schedule', '30', 'rate', 'eff', '0900', 'hrs', 'hour', 'beginning', '1400', 'hrs', '6', '250', '60', 'rate', 'eff', '1400', 'hrs', 'hour', 'beginning', '1700', 'hrs', '7', '500', '30', 'rate', 'eff', '1700', 'hrs', 'hour', 'beginning', '0900', 'hrs', '20', '000', 'total', 'nominated', '33', '750', 'please', 'review', 'source', 'data', 'let', 'us', 'know', 'agree', 'thanks', 'ccs', 'eileen', 'ponton', '05', '25', '2001', '04', '06', '50', 'pm', 'david', 'avila', 'lsp', 'enserch', 'us', 'tu', 'charlie', 'stone', 'energy', 'txu', 'tu', 'melissa', 'jones', 'energy', 'txu', 'tu', 'hpl', 'scheduling', 'enron', 'com', 'liz', 'bellamy', 'enron', 'com', 'szajac', 'enron', 'com', 'cc', 'subject', 'nom', 'actual', 'vols', '24', 'th', 'nom', 'mcf', 'mmbtu', '27', '500', '33', '109', '34', '003']",
         "nom actual vols 24 th forwarded sabrae zajac hou ect 05 30 2001 12 07 pm enron capital trade resources corp eileen ponton 05 29 2001 08 37 davilal txu com cstonel txu com mjones 7 txu com hpl scheduling enron com liz bellamy enron com szajac enron com cc subject nom actual vols 24 th agree nomination 33 750 forwarded eileen ponton houston pefs pec 05 29 01 08 36 charlie stone eileen ponton melissa jones com hpl scheduling enron com liz bellamy enron com szajac enron com 05 25 01 subject nom actual vols 24 th 04 23 pm agree nominated volume records reflect following nom schedule 30 rate eff 0900 hrs hour beginning 1400 hrs 6 250 60 rate eff 1400 hrs hour beginning 1700 hrs 7 500 30 rate eff 1700 hrs hour beginning 0900 hrs 20 000 total nominated 33 750 please review source data let us know agree thanks ccs eileen ponton 05 25 2001 04 06 50 pm david avila lsp enserch us tu charlie stone energy txu tu melissa jones energy txu tu hpl scheduling enron com liz bellamy enron com szajac enron com cc subject nom actual vols 24 th nom mcf mmbtu 27 500 33 109 34 003",
         "0"
        ],
        [
         "2",
         "['enron', 'actuals', 'march', '30', 'april', '1', '201', 'estimated', 'actuals', 'march', '30', '2001', 'flow', 'march', '31', '2001', 'flow', 'april', '1', '2001', 'teco', 'tap', '35', '000', 'receive', 'actuals', 'duke', 'forward']",
         "enron actuals march 30 april 1 201 estimated actuals march 30 2001 flow march 31 2001 flow april 1 2001 teco tap 35 000 receive actuals duke forward",
         "0"
        ],
        [
         "3",
         "['hpl', 'nom', 'may', '30', '2001', 'see', 'attached', 'file', 'hplno', '530', 'xls', 'hplno', '530', 'xls']",
         "hpl nom may 30 2001 see attached file hplno 530 xls hplno 530 xls",
         "0"
        ],
        [
         "4",
         "['hpl', 'nom', 'june', '1', '2001', 'see', 'attached', 'file', 'hplno', '601', 'xls', 'hplno', '601', 'xls']",
         "hpl nom june 1 2001 see attached file hplno 601 xls hplno 601 xls",
         "0"
        ]
       ],
       "shape": {
        "columns": 3,
        "rows": 5
       }
      },
      "text/html": [
       "<div>\n",
       "<style scoped>\n",
       "    .dataframe tbody tr th:only-of-type {\n",
       "        vertical-align: middle;\n",
       "    }\n",
       "\n",
       "    .dataframe tbody tr th {\n",
       "        vertical-align: top;\n",
       "    }\n",
       "\n",
       "    .dataframe thead th {\n",
       "        text-align: right;\n",
       "    }\n",
       "</style>\n",
       "<table border=\"1\" class=\"dataframe\">\n",
       "  <thead>\n",
       "    <tr style=\"text-align: right;\">\n",
       "      <th></th>\n",
       "      <th>text_no_stopwords</th>\n",
       "      <th>text_final_processed</th>\n",
       "      <th>label</th>\n",
       "    </tr>\n",
       "  </thead>\n",
       "  <tbody>\n",
       "    <tr>\n",
       "      <th>0</th>\n",
       "      <td>[hpl, nom, may, 25, 2001, see, attached, file,...</td>\n",
       "      <td>hpl nom may 25 2001 see attached file hplno 52...</td>\n",
       "      <td>0</td>\n",
       "    </tr>\n",
       "    <tr>\n",
       "      <th>1</th>\n",
       "      <td>[nom, actual, vols, 24, th, forwarded, sabrae,...</td>\n",
       "      <td>nom actual vols 24 th forwarded sabrae zajac h...</td>\n",
       "      <td>0</td>\n",
       "    </tr>\n",
       "    <tr>\n",
       "      <th>2</th>\n",
       "      <td>[enron, actuals, march, 30, april, 1, 201, est...</td>\n",
       "      <td>enron actuals march 30 april 1 201 estimated a...</td>\n",
       "      <td>0</td>\n",
       "    </tr>\n",
       "    <tr>\n",
       "      <th>3</th>\n",
       "      <td>[hpl, nom, may, 30, 2001, see, attached, file,...</td>\n",
       "      <td>hpl nom may 30 2001 see attached file hplno 53...</td>\n",
       "      <td>0</td>\n",
       "    </tr>\n",
       "    <tr>\n",
       "      <th>4</th>\n",
       "      <td>[hpl, nom, june, 1, 2001, see, attached, file,...</td>\n",
       "      <td>hpl nom june 1 2001 see attached file hplno 60...</td>\n",
       "      <td>0</td>\n",
       "    </tr>\n",
       "  </tbody>\n",
       "</table>\n",
       "</div>"
      ],
      "text/plain": [
       "                                   text_no_stopwords  \\\n",
       "0  [hpl, nom, may, 25, 2001, see, attached, file,...   \n",
       "1  [nom, actual, vols, 24, th, forwarded, sabrae,...   \n",
       "2  [enron, actuals, march, 30, april, 1, 201, est...   \n",
       "3  [hpl, nom, may, 30, 2001, see, attached, file,...   \n",
       "4  [hpl, nom, june, 1, 2001, see, attached, file,...   \n",
       "\n",
       "                                text_final_processed  label  \n",
       "0  hpl nom may 25 2001 see attached file hplno 52...      0  \n",
       "1  nom actual vols 24 th forwarded sabrae zajac h...      0  \n",
       "2  enron actuals march 30 april 1 201 estimated a...      0  \n",
       "3  hpl nom may 30 2001 see attached file hplno 53...      0  \n",
       "4  hpl nom june 1 2001 see attached file hplno 60...      0  "
      ]
     },
     "metadata": {},
     "output_type": "display_data"
    },
    {
     "name": "stdout",
     "output_type": "stream",
     "text": [
      "\n",
      "--- Text preprocessing (punctuation, tokenization, stop words) complete. ---\n"
     ]
    }
   ],
   "source": [
    "if df is not None and 'text_processed' in df.columns:\n",
    "    print(\"\\n--- Continuing Text Preprocessing ---\")\n",
    "\n",
    "    print(\"\\n3.B. Removing punctuation...\")\n",
    "    df['text_no_punct'] = df['text_processed'].apply(lambda x: re.sub(r'[^\\w\\s]', '', x))\n",
    "    print(\"   Punctuation removed and result stored in 'text_no_punct'.\")\n",
    "    display(df[['text_processed', 'text_no_punct', 'label']].head())\n",
    "\n",
    "    print(\"\\n3.C. Tokenizing text...\")\n",
    "    df['text_tokenized'] = df['text_no_punct'].apply(lambda x: word_tokenize(x))\n",
    "    print(\"   Text tokenized and result (list of words) stored in 'text_tokenized'.\")\n",
    "    display(df[['text_no_punct', 'text_tokenized', 'label']].head())\n",
    "\n",
    "    print(\"\\n3.D. Removing stop words...\")\n",
    "    stop_words = set(stopwords.words('english'))\n",
    "    df['text_no_stopwords'] = df['text_tokenized'].apply(lambda tokens: [token for token in tokens if token not in stop_words])\n",
    "    print(\"   Stop words removed and result stored in 'text_no_stopwords'.\")\n",
    "    display(df[['text_tokenized', 'text_no_stopwords', 'label']].head())\n",
    "\n",
    "    print(\"\\nJoining tokens back into a single string per email...\")\n",
    "    df['text_final_processed'] = df['text_no_stopwords'].apply(lambda tokens: ' '.join(tokens))\n",
    "    print(\"   Tokens joined into strings and stored in 'text_final_processed'.\")\n",
    "    display(df[['text_no_stopwords', 'text_final_processed', 'label']].head())\n",
    "    print(\"\\n--- Text preprocessing (punctuation, tokenization, stop words) complete. ---\")\n",
    "\n",
    "else:\n",
    "    print(\"DataFrame 'df' or 'text_processed' column not found. Please ensure previous cells ran correctly.\")"
   ]
  },
  {
   "cell_type": "code",
   "execution_count": 4,
   "id": "c03aa8c9",
   "metadata": {},
   "outputs": [
    {
     "name": "stdout",
     "output_type": "stream",
     "text": [
      "\n",
      "--- Starting Feature Extraction (TF-IDF) ---\n",
      "TfidfVectorizer initialized.\n",
      "Parameters: min_df=5, max_features=5000, ngram_range=(1,1)\n",
      "\n",
      "Fitting TfidfVectorizer to the data and transforming text into TF-IDF features...\n",
      "TF-IDF features (X) and target variable (y) created.\n",
      "\n",
      "Shape of the TF-IDF feature matrix (X): (29767, 5000)\n",
      "This means we have 29767 emails and 5000 features (words/terms in our vocabulary).\n",
      "\n",
      "--- Feature Extraction Complete ---\n",
      "We now have our features (X) and labels (y) ready for model training.\n"
     ]
    }
   ],
   "source": [
    "if df is not None and 'text_final_processed' in df.columns:\n",
    "    print(\"\\n--- Starting Feature Extraction (TF-IDF) ---\")\n",
    "\n",
    "    from sklearn.feature_extraction.text import TfidfVectorizer\n",
    "\n",
    "    tfidf_vectorizer = TfidfVectorizer(min_df=5,\n",
    "                                       max_features=5000,\n",
    "                                       ngram_range=(1, 1))\n",
    "\n",
    "    print(\"TfidfVectorizer initialized.\")\n",
    "    print(f\"Parameters: min_df=5, max_features=5000, ngram_range=(1,1)\")\n",
    "\n",
    "    print(\"\\nFitting TfidfVectorizer to the data and transforming text into TF-IDF features...\")\n",
    "    X = tfidf_vectorizer.fit_transform(df['text_final_processed'])\n",
    "\n",
    "    y = df['label']\n",
    "\n",
    "    print(\"TF-IDF features (X) and target variable (y) created.\")\n",
    "\n",
    "    print(f\"\\nShape of the TF-IDF feature matrix (X): {X.shape}\")\n",
    "    print(f\"This means we have {X.shape[0]} emails and {X.shape[1]} features (words/terms in our vocabulary).\")\n",
    "\n",
    "    print(\"\\n--- Feature Extraction Complete ---\")\n",
    "    print(\"We now have our features (X) and labels (y) ready for model training.\")\n",
    "\n",
    "else:\n",
    "    print(\"DataFrame 'df' or 'text_final_processed' column not found. Please ensure previous cells ran correctly.\")"
   ]
  },
  {
   "cell_type": "code",
   "execution_count": 5,
   "id": "65704054",
   "metadata": {},
   "outputs": [
    {
     "name": "stdout",
     "output_type": "stream",
     "text": [
      "\n",
      "--- Splitting Data into Training and Testing Sets ---\n",
      "Data split into training and testing sets complete.\n",
      "\n",
      "Shape of X_train (training features): (23813, 5000)\n",
      "Shape of X_test (testing features):  (5954, 5000)\n",
      "Shape of y_train (training labels): (23813,)\n",
      "Shape of y_test (testing labels):  (5954,)\n",
      "\n",
      "Proportion of labels in y_train:\n",
      "label\n",
      "0    0.530467\n",
      "1    0.469533\n",
      "Name: proportion, dtype: float64\n",
      "\n",
      "Proportion of labels in y_test:\n",
      "label\n",
      "0    0.530568\n",
      "1    0.469432\n",
      "Name: proportion, dtype: float64\n",
      "\n",
      "--- Data Splitting Complete ---\n"
     ]
    }
   ],
   "source": [
    "if 'X' in locals() and 'y' in locals():\n",
    "    print(\"\\n--- Splitting Data into Training and Testing Sets ---\")\n",
    "\n",
    "    from sklearn.model_selection import train_test_split\n",
    "\n",
    "    X_train, X_test, y_train, y_test = train_test_split(X, y,\n",
    "                                                        test_size=0.2,\n",
    "                                                        random_state=42,\n",
    "                                                        stratify=y)\n",
    "\n",
    "    print(\"Data split into training and testing sets complete.\")\n",
    "\n",
    "    print(f\"\\nShape of X_train (training features): {X_train.shape}\")\n",
    "    print(f\"Shape of X_test (testing features):  {X_test.shape}\")\n",
    "    print(f\"Shape of y_train (training labels): {y_train.shape}\")\n",
    "    print(f\"Shape of y_test (testing labels):  {y_test.shape}\")\n",
    "\n",
    "    print(f\"\\nProportion of labels in y_train:\\n{y_train.value_counts(normalize=True)}\")\n",
    "    print(f\"\\nProportion of labels in y_test:\\n{y_test.value_counts(normalize=True)}\")\n",
    "    print(\"\\n--- Data Splitting Complete ---\")\n",
    "\n",
    "else:\n",
    "    print(\"TF-IDF features 'X' or target 'y' not found. Please ensure the TF-IDF cell ran correctly.\")"
   ]
  },
  {
   "cell_type": "code",
   "execution_count": 6,
   "id": "cf498df8",
   "metadata": {},
   "outputs": [
    {
     "name": "stdout",
     "output_type": "stream",
     "text": [
      "\n",
      "--- Training and Evaluating Logistic Regression Model ---\n",
      "Logistic Regression model initialized.\n",
      "\n",
      "Training the model...\n",
      "Model training complete.\n",
      "\n",
      "Making predictions on the test set...\n",
      "Predictions made.\n",
      "\n",
      "--- Model Evaluation ---\n",
      "Accuracy: 0.9871\n",
      "Precision (for phishing class '1'): 0.9789\n",
      "Recall (for phishing class '1'):    0.9939\n",
      "F1-Score (for phishing class '1'):  0.9863\n",
      "\n",
      "Classification Report:\n",
      "                precision    recall  f1-score   support\n",
      "\n",
      "Legitimate (0)       0.99      0.98      0.99      3159\n",
      "  Phishing (1)       0.98      0.99      0.99      2795\n",
      "\n",
      "      accuracy                           0.99      5954\n",
      "     macro avg       0.99      0.99      0.99      5954\n",
      "  weighted avg       0.99      0.99      0.99      5954\n",
      "\n",
      "\n",
      "Confusion Matrix:\n",
      "[[3099   60]\n",
      " [  17 2778]]\n"
     ]
    },
    {
     "data": {
      "image/png": "[encoded data removed]",
      "text/plain": [
       "<Figure size 600x400 with 2 Axes>"
      ]
     },
     "metadata": {},
     "output_type": "display_data"
    },
    {
     "name": "stdout",
     "output_type": "stream",
     "text": [
      "\n",
      "--- Model Training and Evaluation Complete ---\n"
     ]
    }
   ],
   "source": [
    "if 'X_train' in locals() and 'X_test' in locals() and 'y_train' in locals() and 'y_test' in locals():\n",
    "    print(\"\\n--- Training and Evaluating Logistic Regression Model ---\")\n",
    "\n",
    "    from sklearn.linear_model import LogisticRegression\n",
    "    from sklearn.metrics import accuracy_score, precision_score, recall_score, f1_score\n",
    "    from sklearn.metrics import confusion_matrix, classification_report\n",
    "    import matplotlib.pyplot as plt\n",
    "    import seaborn as sns\n",
    "\n",
    "    log_reg_model = LogisticRegression(solver='liblinear', random_state=42)\n",
    "    print(\"Logistic Regression model initialized.\")\n",
    "\n",
    "    print(\"\\nTraining the model...\")\n",
    "    log_reg_model.fit(X_train, y_train)\n",
    "    print(\"Model training complete.\")\n",
    "\n",
    "    print(\"\\nMaking predictions on the test set...\")\n",
    "    y_pred = log_reg_model.predict(X_test)\n",
    "    print(\"Predictions made.\")\n",
    "\n",
    "    print(\"\\n--- Model Evaluation ---\")\n",
    "\n",
    "    accuracy = accuracy_score(y_test, y_pred)\n",
    "    print(f\"Accuracy: {accuracy:.4f}\")\n",
    "\n",
    "    precision = precision_score(y_test, y_pred, pos_label=1)\n",
    "    recall = recall_score(y_test, y_pred, pos_label=1)\n",
    "    f1 = f1_score(y_test, y_pred, pos_label=1)\n",
    "    print(f\"Precision (for phishing class '1'): {precision:.4f}\")\n",
    "    print(f\"Recall (for phishing class '1'):    {recall:.4f}\")\n",
    "    print(f\"F1-Score (for phishing class '1'):  {f1:.4f}\")\n",
    "\n",
    "    print(\"\\nClassification Report:\")\n",
    "    print(classification_report(y_test, y_pred, target_names=['Legitimate (0)', 'Phishing (1)']))\n",
    "\n",
    "    print(\"\\nConfusion Matrix:\")\n",
    "    cm = confusion_matrix(y_test, y_pred)\n",
    "    print(cm)\n",
    "\n",
    "    try:\n",
    "        plt.figure(figsize=(6, 4))\n",
    "        sns.heatmap(cm, annot=True, fmt='d', cmap='Blues',\n",
    "                    xticklabels=['Predicted Legitimate (0)', 'Predicted Phishing (1)'],\n",
    "                    yticklabels=['Actual Legitimate (0)', 'Actual Phishing (1)'])\n",
    "        plt.title('Confusion Matrix for Logistic Regression')\n",
    "        plt.ylabel('Actual Label')\n",
    "        plt.xlabel('Predicted Label')\n",
    "        plt.show()\n",
    "    except Exception as e:\n",
    "        print(f\"\\nCould not plot confusion matrix: {e}\")\n",
    "        print(\"Ensure matplotlib and seaborn are installed if you want to see the plot.\")\n",
    "        print(\"You can install them with: pip install matplotlib seaborn\")\n",
    "\n",
    "    print(\"\\n--- Model Training and Evaluation Complete ---\")\n",
    "\n",
    "else:\n",
    "    print(\"Training/testing data (X_train, X_test, y_train, y_test) not found. Please ensure the data splitting cell ran correctly.\")"
   ]
  },
  {
   "cell_type": "code",
   "execution_count": 7,
   "id": "badc8773",
   "metadata": {},
   "outputs": [
    {
     "name": "stdout",
     "output_type": "stream",
     "text": [
      "\n",
      "--- Training and Evaluating Multinomial Naive Bayes Model ---\n",
      "Multinomial Naive Bayes model initialized.\n",
      "\n",
      "Training the model...\n",
      "Model training complete.\n",
      "\n",
      "Making predictions on the test set...\n",
      "Predictions made.\n",
      "\n",
      "--- Model Evaluation (Multinomial Naive Bayes) ---\n",
      "Accuracy: 0.9812\n",
      "Precision (for phishing class '1'): 0.9755\n",
      "Recall (for phishing class '1'):    0.9846\n",
      "F1-Score (for phishing class '1'):  0.9801\n",
      "\n",
      "Classification Report:\n",
      "                precision    recall  f1-score   support\n",
      "\n",
      "Legitimate (0)       0.99      0.98      0.98      3159\n",
      "  Phishing (1)       0.98      0.98      0.98      2795\n",
      "\n",
      "      accuracy                           0.98      5954\n",
      "     macro avg       0.98      0.98      0.98      5954\n",
      "  weighted avg       0.98      0.98      0.98      5954\n",
      "\n",
      "\n",
      "Confusion Matrix:\n",
      "[[3090   69]\n",
      " [  43 2752]]\n"
     ]
    },
    {
     "data": {
      "image/png": "[encoded data removed]",
      "text/plain": [
       "<Figure size 600x400 with 2 Axes>"
      ]
     },
     "metadata": {},
     "output_type": "display_data"
    },
    {
     "name": "stdout",
     "output_type": "stream",
     "text": [
      "\n",
      "--- Multinomial Naive Bayes Model Training and Evaluation Complete ---\n",
      "\n",
      "--- For Comparison: Previous Logistic Regression Results ---\n",
      "Logistic Regression Accuracy: 0.9871\n",
      "Logistic Regression Precision (Phishing '1'): 0.9789\n",
      "Logistic Regression Recall (Phishing '1'):    0.9939\n",
      "Logistic Regression F1-Score (Phishing '1'):  0.9863\n",
      "Logistic Regression Confusion Matrix:\n",
      "[[3099   60]\n",
      " [  17 2778]]\n"
     ]
    }
   ],
   "source": [
    "if 'X_train' in locals() and 'X_test' in locals() and 'y_train' in locals() and 'y_test' in locals():\n",
    "    print(\"\\n--- Training and Evaluating Multinomial Naive Bayes Model ---\")\n",
    "\n",
    "    from sklearn.naive_bayes import MultinomialNB\n",
    "    \n",
    "\n",
    "    mnb_model = MultinomialNB()\n",
    "    print(\"Multinomial Naive Bayes model initialized.\")\n",
    "\n",
    "    print(\"\\nTraining the model...\")\n",
    "    mnb_model.fit(X_train, y_train)\n",
    "    print(\"Model training complete.\")\n",
    "\n",
    "    print(\"\\nMaking predictions on the test set...\")\n",
    "    y_pred_mnb = mnb_model.predict(X_test)\n",
    "    print(\"Predictions made.\")\n",
    "\n",
    "    print(\"\\n--- Model Evaluation (Multinomial Naive Bayes) ---\")\n",
    "\n",
    "    accuracy_mnb = accuracy_score(y_test, y_pred_mnb)\n",
    "    print(f\"Accuracy: {accuracy_mnb:.4f}\")\n",
    "\n",
    "    precision_mnb = precision_score(y_test, y_pred_mnb, pos_label=1)\n",
    "    recall_mnb = recall_score(y_test, y_pred_mnb, pos_label=1)\n",
    "    f1_mnb = f1_score(y_test, y_pred_mnb, pos_label=1)\n",
    "    print(f\"Precision (for phishing class '1'): {precision_mnb:.4f}\")\n",
    "    print(f\"Recall (for phishing class '1'):    {recall_mnb:.4f}\")\n",
    "    print(f\"F1-Score (for phishing class '1'):  {f1_mnb:.4f}\")\n",
    "\n",
    "    print(\"\\nClassification Report:\")\n",
    "    print(classification_report(y_test, y_pred_mnb, target_names=['Legitimate (0)', 'Phishing (1)']))\n",
    "\n",
    "    print(\"\\nConfusion Matrix:\")\n",
    "    cm_mnb = confusion_matrix(y_test, y_pred_mnb)\n",
    "    print(cm_mnb)\n",
    "\n",
    "    try:\n",
    "        plt.figure(figsize=(6, 4))\n",
    "        sns.heatmap(cm_mnb, annot=True, fmt='d', cmap='Greens',\n",
    "                    xticklabels=['Predicted Legitimate (0)', 'Predicted Phishing (1)'],\n",
    "                    yticklabels=['Actual Legitimate (0)', 'Actual Phishing (1)'])\n",
    "        plt.title('Confusion Matrix for Multinomial Naive Bayes')\n",
    "        plt.ylabel('Actual Label')\n",
    "        plt.xlabel('Predicted Label')\n",
    "        plt.show()\n",
    "    except Exception as e:\n",
    "        print(f\"\\nCould not plot confusion matrix: {e}\")\n",
    "\n",
    "    print(\"\\n--- Multinomial Naive Bayes Model Training and Evaluation Complete ---\")\n",
    "\n",
    "    print(\"\\n--- For Comparison: Previous Logistic Regression Results ---\")\n",
    "    print(f\"Logistic Regression Accuracy: {accuracy:.4f}\")\n",
    "    print(f\"Logistic Regression Precision (Phishing '1'): {precision:.4f}\")\n",
    "    print(f\"Logistic Regression Recall (Phishing '1'):    {recall:.4f}\")\n",
    "    print(f\"Logistic Regression F1-Score (Phishing '1'):  {f1:.4f}\")\n",
    "    print(\"Logistic Regression Confusion Matrix:\")\n",
    "    print(cm)\n",
    "\n",
    "else:\n",
    "    print(\"Training/testing data (X_train, X_test, y_train, y_test) not found. Please ensure the data splitting cell ran correctly.\")"
   ]
  },
  {
   "cell_type": "code",
   "execution_count": 8,
   "id": "3a8876bf",
   "metadata": {},
   "outputs": [
    {
     "name": "stdout",
     "output_type": "stream",
     "text": [
      "\n",
      "--- Setting up for LLM Explanation (Real Build) ---\n",
      "Selected example email with original index: 9845\n",
      "\n",
      "Example Email Details (Index: 9845):\n",
      "  Original Subject: returned mail : see transcript for details\n",
      "  Original Body (first 300 chars): the original message was received at tue , 19 jul 2005 07 : 01 : 27 - 0400 from [ 219 . 157 . 114 . 86 ] - - - - - the following addresses had permanent fatal errors - - - - - ( reason : 550 5 . 1 . 1 . . . user unknown ) - - - - - transcript of session follows - - - - - . . . while talking to intma...\n",
      "\n",
      "--- Example Email Identified ---\n"
     ]
    }
   ],
   "source": [
    "if 'y_test' in locals() and 'y_pred' in locals() and df is not None:\n",
    "    print(\"\\n--- Setting up for LLM Explanation (Real Build) ---\")\n",
    "\n",
    "    test_indices = y_test.index\n",
    "    correctly_flagged_indices = test_indices[(y_test == 1) & (y_pred == 1)]\n",
    "\n",
    "    if not correctly_flagged_indices.empty:\n",
    "        example_index = correctly_flagged_indices[0]\n",
    "        print(f\"Selected example email with original index: {example_index}\")\n",
    "\n",
    "        example_email_subject = df.loc[example_index, 'subject']\n",
    "        example_email_body = df.loc[example_index, 'body']\n",
    "\n",
    "        print(f\"\\nExample Email Details (Index: {example_index}):\")\n",
    "        print(f\"  Original Subject: {example_email_subject}\")\n",
    "        print(f\"  Original Body (first 300 chars): {example_email_body[:300]}...\")\n",
    "        print(\"\\n--- Example Email Identified ---\")\n",
    "    else:\n",
    "        print(\"Could not find an example of a correctly flagged phishing email in the test set.\")\n",
    "        example_email_subject = \"Error: No example subject found\"\n",
    "        example_email_body = \"Error: No example body found\"\n",
    "else:\n",
    "    print(\"Required variables (y_test, y_pred, df) not found. Please ensure previous cells ran correctly.\")\n",
    "    example_email_subject = \"Error: Prerequisite variables missing\"\n",
    "    example_email_body = \"Error: Prerequisite variables missing\""
   ]
  },
  {
   "cell_type": "code",
   "execution_count": 9,
   "id": "350ea9a3",
   "metadata": {},
   "outputs": [
    {
     "name": "stdout",
     "output_type": "stream",
     "text": [
      ".env file loaded successfully."
     ]
    },
    {
     "name": "stdout",
     "output_type": "stream",
     "text": [
      "\n",
      "\n",
      "--- LLM Integration with OpenAI API ---\n",
      "OPENAI_API_KEY found. Value starts with: sk-proj-Pn...\n",
      "OpenAI client initialized successfully.\n",
      "\n",
      "Attempting to call OpenAI API...\n",
      "OpenAI API call to 'gpt-4o' successful.\n",
      "\n",
      "LLM's Response (from OpenAI):\n",
      "**Suspicious Elements**\n",
      "\n",
      "1. **Outdated Date**: The email references a date from July 2005, which is highly unusual for a current email and could indicate that the email is not legitimate or has been reused from an old phishing campaign.\n",
      "\n",
      "2. **Technical Content**: The email contains technical jargon related to email delivery errors, which might be used to confuse recipients. This tactic can trick recipients into believing the email is legitimate and urgent, prompting them to take hasty actions.\n",
      "\n",
      "3. **Lack of Personalization**: The email does not address the recipient by name or include any personal identifiers. Genuine emails, especially those concerning important information, typically include some form of personalization.\n",
      "\n",
      "4. **Suspicious IP Address**: The IP address mentioned ([219.157.114.86]) could be part of the phishing attempt to make the email appear technical and legitimate. However, legitimate email error messages usually do not include such specific technical details in this format.\n",
      "\n",
      "5. **Grammar and Formatting Issues**: The email contains several grammatical errors and unusual formatting, such as inconsistent spacing and capitalization errors (e.g., \"tue\" instead of \"Tue\" and \"07 : 01 : 27 - 0400\"). These are often signs of phishing emails.\n",
      "\n",
      "**Recommendations**\n",
      "\n",
      "1. **Do Not Respond**: Avoid replying to the email or providing any personal or sensitive information. Phishers often use these errors to initiate contact and extract more information.\n",
      "\n",
      "2. **Do Not Click on Links or Download Attachments**: If the email contains any links or attachments, do not click or download them, as they may lead to malicious websites or downloads.\n",
      "\n",
      "3. **Verify the Source**: If you are concerned about the email's contents, verify the message by contacting the purported sender through a known, legitimate channel (e.g., official website or phone number), not through any contact information provided in the email.\n",
      "\n",
      "4. **Mark as Spam or Phishing**: Use your email client's features to mark the email as spam or phishing. This helps improve the filter's ability to detect similar future attempts.\n",
      "\n",
      "5. **Update Security Software**: Ensure your security software is up-to-date to protect against potential threats from phishing emails and other cyber threats.\n",
      "\n",
      "6. **Report the Email**: Consider reporting the email to your IT department or email provider if you believe it is a phishing attempt. This can help them take further actions to protect other users.\n",
      "\n",
      "--- LLM Interaction with OpenAI Complete ---\n"
     ]
    }
   ],
   "source": [
    "# --- Cell for OpenAI LLM Integration ---\n",
    "\n",
    "# AT THE VERY TOP of this cell:\n",
    "from dotenv import load_dotenv\n",
    "import os\n",
    "\n",
    "# Load environment variables from .env file\n",
    "# load_dotenv() will search in the current working directory (usually project root in VS Code for notebooks)\n",
    "# and its parent directories for a file named .env.\n",
    "# Ensure your .env file is in the root of your 'phishing-chatbot' project.\n",
    "loaded_env = load_dotenv()\n",
    "if loaded_env:\n",
    "    print(\".env file loaded successfully.\")\n",
    "else:\n",
    "    print(\"WARNING: .env file NOT found by load_dotenv(). Ensure '.env' is in your project root.\")\n",
    "    print(f\"Current working directory for Python is: {os.getcwd()}\")\n",
    "    print(\"The script will now rely on system-level environment variables if available.\")\n",
    "\n",
    "# Initialize default message in case of errors before API call attempt\n",
    "llm_response_text = \"LLM call not attempted. Prerequisite variables might be missing or API key not found.\"\n",
    "\n",
    "# Ensure example_email_subject and example_email_body are defined from a previous cell\n",
    "if 'example_email_subject' not in locals() or not example_email_subject or example_email_subject.startswith(\"Error:\"):\n",
    "    print(\"Error: 'example_email_subject' not properly defined. Please run the cell that selects an example email first.\")\n",
    "elif 'example_email_body' not in locals() or not example_email_body or example_email_body.startswith(\"Error:\"):\n",
    "    print(\"Error: 'example_email_body' not properly defined. Please run the cell that selects an example email first.\")\n",
    "else:\n",
    "    print(\"\\n--- LLM Integration with OpenAI API ---\")\n",
    "    try:\n",
    "        from openai import OpenAI # Import the OpenAI class\n",
    "    except ImportError:\n",
    "        print(\"The 'openai' library is not installed. Please install it in your venv and restart the kernel:\")\n",
    "        print(\"pip install openai\")\n",
    "        llm_response_text = \"Error: OpenAI library not installed.\"\n",
    "    else:\n",
    "        OPENAI_API_KEY_FROM_ENV = os.getenv('OPENAI_API_KEY')\n",
    "\n",
    "        if not OPENAI_API_KEY_FROM_ENV:\n",
    "            print(\"\\nCRITICAL ERROR: The OPENAI_API_KEY was NOT found after attempting to load .env file or from system environment.\")\n",
    "            print(\"Please ensure 'OPENAI_API_KEY' is defined in your .env file (in the project root),\")\n",
    "            print(\"or as a system environment variable, and that you've restarted your kernel/VS Code if needed.\")\n",
    "            llm_response_text = \"Error: OPENAI_API_KEY not found in environment.\"\n",
    "        else:\n",
    "            # For debugging, only print a portion of the key or an indication it's found\n",
    "            print(f\"OPENAI_API_KEY found. Value starts with: {OPENAI_API_KEY_FROM_ENV[:10]}...\")\n",
    "\n",
    "            try:\n",
    "                client = OpenAI() # Automatically uses OPENAI_API_KEY from environment\n",
    "                print(\"OpenAI client initialized successfully.\")\n",
    "\n",
    "                # 2. Construct the Prompt Messages (using system and user roles)\n",
    "                system_prompt_content = \"\"\"You are an AI cybersecurity assistant integrated into a phishing detection chatbot.\n",
    "Your role is to help users understand why an email might be suspicious and what actions they should take.\n",
    "Structure your response clearly with distinct sections for \"Suspicious Elements\" and \"Recommendations\".\n",
    "\"\"\"\n",
    "\n",
    "                user_prompt_content = f\"\"\"An email submitted by the user has been flagged as a **potential phishing attempt** by our machine learning model.\n",
    "Please analyze the following email content:\n",
    "\n",
    "-----------------------------------\n",
    "Subject: {example_email_subject}\n",
    "\n",
    "Body:\n",
    "{example_email_body}\n",
    "-----------------------------------\n",
    "\n",
    "Based on this email, please provide:\n",
    "1.  A brief, user-friendly explanation of suspicious elements you can identify in the email that are common phishing indicators (e.g., sense of urgency, generic greetings, suspicious links/requests, grammar issues). Be specific to the provided email content if possible.\n",
    "2.  Clear, actionable security recommendations for the user.\n",
    "\"\"\"\n",
    "                messages_for_llm = [\n",
    "                    {\"role\": \"system\", \"content\": system_prompt_content},\n",
    "                    {\"role\": \"user\", \"content\": user_prompt_content}\n",
    "                ]\n",
    "\n",
    "                # print(\"\\nSystem Prompt (for debugging):\") # Uncomment to see full prompt\n",
    "                # print(system_prompt_content)\n",
    "                # print(\"\\nUser Prompt (for debugging):\")   # Uncomment to see full prompt\n",
    "                # print(user_prompt_content)\n",
    "\n",
    "                # 3. Make the API Call to OpenAI\n",
    "                print(\"\\nAttempting to call OpenAI API...\")\n",
    "                # Recommended model for good balance of capability and cost: \"gpt-3.5-turbo\"\n",
    "                # For higher capability (and higher cost): \"gpt-4-turbo-preview\" or \"gpt-4\"\n",
    "                MODEL_NAME = \"gpt-4o\"\n",
    "\n",
    "                completion = client.chat.completions.create(\n",
    "                    model=MODEL_NAME,\n",
    "                    messages=messages_for_llm,\n",
    "                    temperature=0.7, # Controls randomness. Lower is more deterministic.\n",
    "                    max_tokens=1024, # Max number of tokens to generate in the response.\n",
    "                )\n",
    "\n",
    "                llm_response_text = completion.choices[0].message.content\n",
    "                print(f\"OpenAI API call to '{MODEL_NAME}' successful.\")\n",
    "\n",
    "            except Exception as e:\n",
    "                llm_response_text = f\"An error occurred during OpenAI API interaction: {e}\"\n",
    "                print(llm_response_text)\n",
    "                if \"OPENAI_API_KEY\" not in str(e).upper() and \"AUTHENTICATION\" not in str(e).upper() and \"RATE_LIMIT\" not in str(e).upper():\n",
    "                     print(\"This might be an issue with the API call itself (e.g., model name, network, prompt format) or other configuration.\")\n",
    "                else:\n",
    "                     print(\"This error might be related to your API key, OpenAI account status (e.g., quota, billing, rate limits), or permissions.\")\n",
    "\n",
    "# Display the LLM's Response (or error message)\n",
    "print(\"\\nLLM's Response (from OpenAI):\")\n",
    "print(llm_response_text) # This will print an error message if any step above failed\n",
    "\n",
    "print(\"\\n--- LLM Interaction with OpenAI Complete ---\")"
   ]
  },
  {
   "cell_type": "code",
   "execution_count": null,
   "id": "a5430d26",
   "metadata": {},
   "outputs": [
    {
     "name": "stdout",
     "output_type": "stream",
     "text": [
      "Vectorizer and model saved!\n"
     ]
    }
   ],
   "source": [
    "import joblib\n",
    "joblib.dump(tfidf_vectorizer, 'tfidf_vectorizer.joblib')\n",
    "joblib.dump(log_reg_model, 'log_reg_model.joblib')\n",
    "print(\"Vectorizer and model saved!\")\n"
   ]
  },
  {
   "cell_type": "code",
   "execution_count": 11,
   "id": "af036223",
   "metadata": {},
   "outputs": [
    {
     "name": "stdout",
     "output_type": "stream",
     "text": [
      "TF-IDF Vectorizer saved to: tfidf_vectorizer.joblib\n",
      "Logistic Regression Model saved to: log_reg_model.joblib\n",
      "\n",
      "These files should now be in the same directory as your notebook,\n",
      "or you can specify a full path like 'models/tfidf_vectorizer.joblib' if you have a 'models' folder.\n",
      "You will need these files for your FastAPI application.\n"
     ]
    }
   ],
   "source": [
    "# --- Save the Trained Model and Vectorizer ---\n",
    "\n",
    "# Ensure tfidf_vectorizer and log_reg_model are in memory from previous cells\n",
    "if 'tfidf_vectorizer' in locals() and 'log_reg_model' in locals():\n",
    "    import joblib # joblib is efficient for saving/loading Python objects, especially scikit-learn models\n",
    "\n",
    "    # Define filenames for saving\n",
    "    vectorizer_filename = 'tfidf_vectorizer.joblib'\n",
    "    model_filename = 'log_reg_model.joblib'\n",
    "\n",
    "    # Save the TF-IDF vectorizer\n",
    "    joblib.dump(tfidf_vectorizer, vectorizer_filename)\n",
    "    print(f\"TF-IDF Vectorizer saved to: {vectorizer_filename}\")\n",
    "\n",
    "    # Save the Logistic Regression model\n",
    "    joblib.dump(log_reg_model, model_filename)\n",
    "    print(f\"Logistic Regression Model saved to: {model_filename}\")\n",
    "\n",
    "    print(\"\\nThese files should now be in the same directory as your notebook,\")\n",
    "    print(\"or you can specify a full path like 'models/tfidf_vectorizer.joblib' if you have a 'models' folder.\")\n",
    "    print(\"You will need these files for your FastAPI application.\")\n",
    "\n",
    "else:\n",
    "    print(\"Error: 'tfidf_vectorizer' or 'log_reg_model' not found in the current session.\")\n",
    "    print(\"Please ensure you have run the cells where these were defined and trained.\")"
   ]
  }
 ],
 "metadata": {
  "kernelspec": {
   "display_name": "venv",
   "language": "python",
   "name": "python3"
  },
  "language_info": {
   "codemirror_mode": {
    "name": "ipython",
    "version": 3
   },
   "file_extension": ".py",
   "mimetype": "text/x-python",
   "name": "python",
   "nbconvert_exporter": "python",
   "pygments_lexer": "ipython3",
   "version": "3.12.4"
  }
 },
 "nbformat": 4,
 "nbformat_minor": 5
}
